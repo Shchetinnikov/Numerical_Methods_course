{
 "cells": [
  {
   "cell_type": "markdown",
   "id": "f7e962a4",
   "metadata": {},
   "source": [
    "# Поиск приближенных значений корней нелинейных уравнений"
   ]
  },
  {
   "cell_type": "markdown",
   "id": "4e952b2a",
   "metadata": {},
   "source": [
    "## Вариант 6"
   ]
  },
  {
   "cell_type": "markdown",
   "id": "1f6e55d8",
   "metadata": {},
   "source": [
    "> <span style=\"font-style:normal; font-size:12pt;\"> \n",
    "    <p>С точностью \n",
    "        $\n",
    "        e = 10^{-3}, 10^{-6}, 10^{-9}\n",
    "        $\n",
    "        найти приближенное значение корня уравнения, лежащее на интервале (0, 10). Для поиска корня использовать метод дихотомии и метод Ньютона</p>"
   ]
  },
  {
   "cell_type": "markdown",
   "id": "b4f97f51",
   "metadata": {},
   "source": [
    "$$\n",
    "\\begin{equation}\n",
    "\\cos{\\frac{1}{1 + x}} + \\sin{\\frac{3x}{2}} + x - 7 = 0, \\ \\ \\ {x \\in (0, 10)}\n",
    "\\end{equation}\n",
    "$$"
   ]
  },
  {
   "cell_type": "code",
   "execution_count": 1,
   "id": "7149513d",
   "metadata": {},
   "outputs": [],
   "source": [
    "import numpy as np\n",
    "import matplotlib.pyplot as plt\n",
    "import pandas as pd"
   ]
  },
  {
   "cell_type": "code",
   "execution_count": 2,
   "id": "4783a142",
   "metadata": {},
   "outputs": [],
   "source": [
    "# исходная функция\n",
    "def f(x):\n",
    "    return np.cos(1 / (1 + x)) + np.sin(3 * x / 2) + x - 7\n",
    "\n",
    "\n",
    "# первая производная исходной функции\n",
    "def f_first_deriative(x):\n",
    "    return np.sin(1 / (1 + x)) / np.power(1 + x, 2) + 3 * np.cos(3 * x / 2) / 2 + 1\n",
    "\n",
    "\n",
    "# интервал\n",
    "a = 0\n",
    "b = 10"
   ]
  },
  {
   "cell_type": "code",
   "execution_count": 3,
   "id": "7c990664",
   "metadata": {},
   "outputs": [],
   "source": [
    "x0_plot = np.linspace(a, b, 100)\n",
    "y0_plot = [f(x) for x in x0_plot]"
   ]
  },
  {
   "cell_type": "code",
   "execution_count": 4,
   "id": "c066b201",
   "metadata": {},
   "outputs": [
    {
     "data": {
      "image/png": "[encoded data removed]",
      "text/plain": [
       "<Figure size 1008x360 with 1 Axes>"
      ]
     },
     "metadata": {
      "needs_background": "light"
     },
     "output_type": "display_data"
    }
   ],
   "source": [
    "# график исходной функии\n",
    "fig, ax  = plt.subplots(figsize=(14, 5))\n",
    "\n",
    "ax.plot(x0_plot, y0_plot, color=\"red\", label='f(x) = cos(1 / (1 + x)) + sin(3 * x / 2) + x - 7')\n",
    "\n",
    "ax.grid(which=\"major\", linewidth=1.2)\n",
    "ax.grid(which=\"minor\", linestyle=\"--\", color=\"gray\", linewidth=0.5)\n",
    "\n",
    "ax.set_xlabel(\"x\", fontsize=14)        \n",
    "ax.set_ylabel(\"y\", fontsize=14)\n",
    "\n",
    "plt.title(\"Исходная функция\")\n",
    "plt.legend()\n",
    "\n",
    "plt.show()\n"
   ]
  },
  {
   "cell_type": "markdown",
   "id": "c2d2be87",
   "metadata": {},
   "source": [
    "### Вычисления"
   ]
  },
  {
   "cell_type": "code",
   "execution_count": 5,
   "id": "3bff2f58",
   "metadata": {},
   "outputs": [
    {
     "data": {
      "text/plain": [
       "[0.001, 1e-06, 1e-09]"
      ]
     },
     "execution_count": 5,
     "metadata": {},
     "output_type": "execute_result"
    }
   ],
   "source": [
    "# заданные погрешности\n",
    "\n",
    "errors = []\n",
    "\n",
    "for n in np.arange(-3, -10, step=-3):\n",
    "    error = np.float_power(10, n) \n",
    "    errors.append(error)\n",
    "    \n",
    "errors"
   ]
  },
  {
   "cell_type": "markdown",
   "id": "8ec62697",
   "metadata": {},
   "source": [
    "#### Метод дихотомии"
   ]
  },
  {
   "cell_type": "code",
   "execution_count": 6,
   "id": "d7836a74",
   "metadata": {},
   "outputs": [],
   "source": [
    "def dichotomy(func, a, b, error):\n",
    "    \n",
    "    if (func(a) * func(b) < 0):\n",
    "        \n",
    "        if abs(b - a) > error:\n",
    "            \n",
    "            c = (b + a) / 2\n",
    "                        \n",
    "            res1, step_val1 = dichotomy(func, a, c, error)\n",
    "            res2, step_val2 = dichotomy(func, c, b, error)\n",
    "            \n",
    "            if res1 != None:\n",
    "                return res1, step_val1 + 1\n",
    "            else:\n",
    "                return res2, step_val2 + 1\n",
    "    \n",
    "        else:\n",
    "        \n",
    "            if (abs(b) < (abs(a) + error)):\n",
    "                return b, 0\n",
    "            else:\n",
    "                return a, 0\n",
    "    \n",
    "    \n",
    "    elif (func(a) * func(b) == 0):\n",
    "        if func(a) == 0:\n",
    "            return a, 0\n",
    "        else:\n",
    "            return b, 0\n",
    "    \n",
    "    else:\n",
    "        return None, 0"
   ]
  },
  {
   "cell_type": "code",
   "execution_count": 7,
   "id": "170b2bc3",
   "metadata": {},
   "outputs": [],
   "source": [
    "roots = []\n",
    "steps = []\n",
    "\n",
    "for error in errors:\n",
    "    root,  step_val = dichotomy(f, a, b, error)\n",
    "    roots.append(root)\n",
    "    steps.append(step_val)"
   ]
  },
  {
   "cell_type": "code",
   "execution_count": 8,
   "id": "0bed6a6f",
   "metadata": {},
   "outputs": [
    {
     "data": {
      "text/html": [
       "<div>\n",
       "<style scoped>\n",
       "    .dataframe tbody tr th:only-of-type {\n",
       "        vertical-align: middle;\n",
       "    }\n",
       "\n",
       "    .dataframe tbody tr th {\n",
       "        vertical-align: top;\n",
       "    }\n",
       "\n",
       "    .dataframe thead th {\n",
       "        text-align: right;\n",
       "    }\n",
       "</style>\n",
       "<table border=\"1\" class=\"dataframe\">\n",
       "  <thead>\n",
       "    <tr style=\"text-align: right;\">\n",
       "      <th></th>\n",
       "      <th>roots</th>\n",
       "      <th>steps</th>\n",
       "      <th>errors</th>\n",
       "    </tr>\n",
       "  </thead>\n",
       "  <tbody>\n",
       "    <tr>\n",
       "      <th>0</th>\n",
       "      <td>5.051880</td>\n",
       "      <td>14</td>\n",
       "      <td>1.000000e-03</td>\n",
       "    </tr>\n",
       "    <tr>\n",
       "      <th>1</th>\n",
       "      <td>5.051620</td>\n",
       "      <td>24</td>\n",
       "      <td>1.000000e-06</td>\n",
       "    </tr>\n",
       "    <tr>\n",
       "      <th>2</th>\n",
       "      <td>5.051619</td>\n",
       "      <td>34</td>\n",
       "      <td>1.000000e-09</td>\n",
       "    </tr>\n",
       "  </tbody>\n",
       "</table>\n",
       "</div>"
      ],
      "text/plain": [
       "      roots  steps        errors\n",
       "0  5.051880     14  1.000000e-03\n",
       "1  5.051620     24  1.000000e-06\n",
       "2  5.051619     34  1.000000e-09"
      ]
     },
     "execution_count": 8,
     "metadata": {},
     "output_type": "execute_result"
    }
   ],
   "source": [
    "d = {'roots': roots, \n",
    "     'steps': steps,\n",
    "     'errors': errors\n",
    "    }\n",
    "df_dich = pd.DataFrame(data=d)\n",
    "df_dich"
   ]
  },
  {
   "cell_type": "markdown",
   "id": "5d5cd54c",
   "metadata": {},
   "source": [
    "#### Метод Ньютона (касательных)"
   ]
  },
  {
   "cell_type": "code",
   "execution_count": 9,
   "id": "88bb56ff",
   "metadata": {},
   "outputs": [],
   "source": [
    "def Newton_method(f, x0, error):\n",
    "    \n",
    "    while (f_first_deriative(x0) == 0):\n",
    "        x0 += error\n",
    "    \n",
    "    x1 = x0 - f(x0) / f_first_deriative(x0)\n",
    "    \n",
    "    if abs(x1 - x0) > error:\n",
    "        \n",
    "        res, step_val = Newton_method(f, x1, error)\n",
    "        return res, step_val + 1\n",
    "    \n",
    "    else:\n",
    "        return x1, 1"
   ]
  },
  {
   "cell_type": "code",
   "execution_count": 10,
   "id": "48e8a1f6",
   "metadata": {},
   "outputs": [],
   "source": [
    "# поиск корня с левого конца\n",
    "roots_a = []\n",
    "steps_a = []\n",
    "\n",
    "# поиск корня с правого конца\n",
    "roots_b = []\n",
    "steps_b = []\n",
    "\n",
    "for error in errors:\n",
    "    \n",
    "    root_a, step_val_a = Newton_method(f, a, error)\n",
    "    root_b, step_val_b = Newton_method(f, b, error)\n",
    "    \n",
    "    roots_a.append(root_a)\n",
    "    roots_b.append(root_b)\n",
    "    \n",
    "    steps_a.append(step_val_a)\n",
    "    steps_b.append(step_val_b)"
   ]
  },
  {
   "cell_type": "code",
   "execution_count": 11,
   "id": "26443d69",
   "metadata": {},
   "outputs": [],
   "source": [
    "d1 = {'roots_a': roots_a, \n",
    "      'steps_a': steps_a,\n",
    "     }\n",
    "\n",
    "d2 = {'roots_b': roots_b, \n",
    "      'steps_b': steps_b,\n",
    "     }\n",
    "\n",
    "df1_newton = pd.DataFrame(data=d1)\n",
    "df2_newton = pd.DataFrame(data=d2)\n",
    "errors_series = pd.Series(errors, name = 'errors')\n",
    "\n",
    "df_newton = pd.concat([df1_newton, df2_newton, errors_series], axis=1)"
   ]
  },
  {
   "cell_type": "code",
   "execution_count": 12,
   "id": "3fd311a2",
   "metadata": {},
   "outputs": [
    {
     "data": {
      "text/html": [
       "<div>\n",
       "<style scoped>\n",
       "    .dataframe tbody tr th:only-of-type {\n",
       "        vertical-align: middle;\n",
       "    }\n",
       "\n",
       "    .dataframe tbody tr th {\n",
       "        vertical-align: top;\n",
       "    }\n",
       "\n",
       "    .dataframe thead th {\n",
       "        text-align: right;\n",
       "    }\n",
       "</style>\n",
       "<table border=\"1\" class=\"dataframe\">\n",
       "  <thead>\n",
       "    <tr style=\"text-align: right;\">\n",
       "      <th></th>\n",
       "      <th>roots_a</th>\n",
       "      <th>steps_a</th>\n",
       "      <th>roots_b</th>\n",
       "      <th>steps_b</th>\n",
       "      <th>errors</th>\n",
       "    </tr>\n",
       "  </thead>\n",
       "  <tbody>\n",
       "    <tr>\n",
       "      <th>0</th>\n",
       "      <td>5.051619</td>\n",
       "      <td>7</td>\n",
       "      <td>5.051619</td>\n",
       "      <td>120</td>\n",
       "      <td>1.000000e-03</td>\n",
       "    </tr>\n",
       "    <tr>\n",
       "      <th>1</th>\n",
       "      <td>5.051619</td>\n",
       "      <td>8</td>\n",
       "      <td>5.051619</td>\n",
       "      <td>121</td>\n",
       "      <td>1.000000e-06</td>\n",
       "    </tr>\n",
       "    <tr>\n",
       "      <th>2</th>\n",
       "      <td>5.051619</td>\n",
       "      <td>9</td>\n",
       "      <td>5.051619</td>\n",
       "      <td>122</td>\n",
       "      <td>1.000000e-09</td>\n",
       "    </tr>\n",
       "  </tbody>\n",
       "</table>\n",
       "</div>"
      ],
      "text/plain": [
       "    roots_a  steps_a   roots_b  steps_b        errors\n",
       "0  5.051619        7  5.051619      120  1.000000e-03\n",
       "1  5.051619        8  5.051619      121  1.000000e-06\n",
       "2  5.051619        9  5.051619      122  1.000000e-09"
      ]
     },
     "execution_count": 12,
     "metadata": {},
     "output_type": "execute_result"
    }
   ],
   "source": [
    "df_newton"
   ]
  },
  {
   "cell_type": "markdown",
   "id": "65938311",
   "metadata": {},
   "source": [
    "#### Метод хорд (секущих)"
   ]
  },
  {
   "cell_type": "code",
   "execution_count": 13,
   "id": "05beb9d3",
   "metadata": {},
   "outputs": [],
   "source": [
    "def secant_method(f, x0, x1, error):\n",
    "    \n",
    "    x2 = x0 - f(x0) * (x0 - x1) / (f(x0) - f(x1))\n",
    "    \n",
    "    if abs(x2 - x1) > error:\n",
    "        \n",
    "        res, step_val = secant_method(f, x1, x2, error)\n",
    "        return res, step_val + 1\n",
    "    \n",
    "    else:\n",
    "        return x2, 1"
   ]
  },
  {
   "cell_type": "code",
   "execution_count": 14,
   "id": "c2e61a55",
   "metadata": {},
   "outputs": [],
   "source": [
    "def secant_method_mod(f, c, x0, error):\n",
    "    \n",
    "    x2 = x0 - f(x0) * (c - x0) / (f(c) - f(x0))\n",
    "    \n",
    "    if abs(x2 - x0) > error:\n",
    "        \n",
    "        res, step_val = secant_method_mod(f, c, x2, error)\n",
    "        return res, step_val + 1\n",
    "    \n",
    "    else:\n",
    "        return x2, 1"
   ]
  },
  {
   "cell_type": "code",
   "execution_count": 15,
   "id": "f7f1a39e",
   "metadata": {},
   "outputs": [],
   "source": [
    "# Метод хорд без модификации\n",
    "\n",
    "# поиск корня с левого конца\n",
    "roots_a = []\n",
    "steps_a = []\n",
    "\n",
    "# поиск корня с правого конца\n",
    "roots_b = []\n",
    "steps_b = []\n",
    "\n",
    "for error in errors:\n",
    "    \n",
    "    root_a, step_val_a = secant_method(f, a, a + error, error)\n",
    "    root_b, step_val_b = secant_method(f, b, b - error, error)\n",
    "    \n",
    "    roots_a.append(root_a)\n",
    "    roots_b.append(root_b)\n",
    "    \n",
    "    steps_a.append(step_val_a)\n",
    "    steps_b.append(step_val_b)"
   ]
  },
  {
   "cell_type": "code",
   "execution_count": 16,
   "id": "64d04aac",
   "metadata": {},
   "outputs": [],
   "source": [
    "d1 = {'roots_a': roots_a, \n",
    "      'steps_a': steps_a,\n",
    "     }\n",
    "\n",
    "d2 = {'roots_b': roots_b, \n",
    "      'steps_b': steps_b,\n",
    "     }\n",
    "\n",
    "df1_sec = pd.DataFrame(data=d1)\n",
    "df2_sec = pd.DataFrame(data=d2)\n",
    "errors_series = pd.Series(errors, name = 'errors')\n",
    "\n",
    "df_sec = pd.concat([df1_sec, df2_sec, errors_series], axis=1)"
   ]
  },
  {
   "cell_type": "code",
   "execution_count": 17,
   "id": "02d7dc9d",
   "metadata": {},
   "outputs": [
    {
     "data": {
      "text/html": [
       "<div>\n",
       "<style scoped>\n",
       "    .dataframe tbody tr th:only-of-type {\n",
       "        vertical-align: middle;\n",
       "    }\n",
       "\n",
       "    .dataframe tbody tr th {\n",
       "        vertical-align: top;\n",
       "    }\n",
       "\n",
       "    .dataframe thead th {\n",
       "        text-align: right;\n",
       "    }\n",
       "</style>\n",
       "<table border=\"1\" class=\"dataframe\">\n",
       "  <thead>\n",
       "    <tr style=\"text-align: right;\">\n",
       "      <th></th>\n",
       "      <th>roots_a</th>\n",
       "      <th>steps_a</th>\n",
       "      <th>roots_b</th>\n",
       "      <th>steps_b</th>\n",
       "      <th>errors</th>\n",
       "    </tr>\n",
       "  </thead>\n",
       "  <tbody>\n",
       "    <tr>\n",
       "      <th>0</th>\n",
       "      <td>5.051623</td>\n",
       "      <td>6</td>\n",
       "      <td>5.051618</td>\n",
       "      <td>6</td>\n",
       "      <td>1.000000e-03</td>\n",
       "    </tr>\n",
       "    <tr>\n",
       "      <th>1</th>\n",
       "      <td>5.051619</td>\n",
       "      <td>8</td>\n",
       "      <td>5.051619</td>\n",
       "      <td>7</td>\n",
       "      <td>1.000000e-06</td>\n",
       "    </tr>\n",
       "    <tr>\n",
       "      <th>2</th>\n",
       "      <td>5.051619</td>\n",
       "      <td>9</td>\n",
       "      <td>5.051619</td>\n",
       "      <td>8</td>\n",
       "      <td>1.000000e-09</td>\n",
       "    </tr>\n",
       "  </tbody>\n",
       "</table>\n",
       "</div>"
      ],
      "text/plain": [
       "    roots_a  steps_a   roots_b  steps_b        errors\n",
       "0  5.051623        6  5.051618        6  1.000000e-03\n",
       "1  5.051619        8  5.051619        7  1.000000e-06\n",
       "2  5.051619        9  5.051619        8  1.000000e-09"
      ]
     },
     "execution_count": 17,
     "metadata": {},
     "output_type": "execute_result"
    }
   ],
   "source": [
    "df_sec"
   ]
  },
  {
   "cell_type": "code",
   "execution_count": 18,
   "id": "0251cf01",
   "metadata": {},
   "outputs": [],
   "source": [
    "# Метод хорд с модификацией\n",
    "\n",
    "# поиск корня с левого конца\n",
    "roots_a_mod = []\n",
    "steps_a_mod = []\n",
    "\n",
    "# поиск корня с правого конца\n",
    "roots_b_mod = []\n",
    "steps_b_mod = []\n",
    "\n",
    "for error in errors:\n",
    "    \n",
    "    root_a_mod, step_val_a_mod = secant_method_mod(f, a, a + error, error)\n",
    "    root_b_mod, step_val_b_mod = secant_method_mod(f, b, b - error, error)\n",
    "    \n",
    "    roots_a_mod.append(root_a_mod)\n",
    "    roots_b_mod.append(root_b_mod)\n",
    "    steps_a_mod.append(step_val_a_mod)\n",
    "    steps_b_mod.append(step_val_b_mod)"
   ]
  },
  {
   "cell_type": "code",
   "execution_count": 19,
   "id": "83b24c17",
   "metadata": {},
   "outputs": [],
   "source": [
    "d1_mod = {'roots_a_mod': roots_a_mod, \n",
    "          'steps_a_mod': steps_a_mod,\n",
    "         }\n",
    "\n",
    "d2_mod = {'roots_b_mod': roots_b_mod, \n",
    "          'steps_b_mod': steps_b_mod,\n",
    "         }\n",
    "\n",
    "df1_sec_mod = pd.DataFrame(data=d1_mod)\n",
    "df2_sec_mod = pd.DataFrame(data=d2_mod)\n",
    "errors_series = pd.Series(errors, name = 'errors')\n",
    "\n",
    "df_sec_mod = pd.concat([df1_sec_mod, df2_sec_mod, errors_series], axis=1)"
   ]
  },
  {
   "cell_type": "code",
   "execution_count": 20,
   "id": "48dc58b7",
   "metadata": {},
   "outputs": [
    {
     "data": {
      "text/html": [
       "<div>\n",
       "<style scoped>\n",
       "    .dataframe tbody tr th:only-of-type {\n",
       "        vertical-align: middle;\n",
       "    }\n",
       "\n",
       "    .dataframe tbody tr th {\n",
       "        vertical-align: top;\n",
       "    }\n",
       "\n",
       "    .dataframe thead th {\n",
       "        text-align: right;\n",
       "    }\n",
       "</style>\n",
       "<table border=\"1\" class=\"dataframe\">\n",
       "  <thead>\n",
       "    <tr style=\"text-align: right;\">\n",
       "      <th></th>\n",
       "      <th>roots_a_mod</th>\n",
       "      <th>steps_a_mod</th>\n",
       "      <th>roots_b_mod</th>\n",
       "      <th>steps_b_mod</th>\n",
       "      <th>errors</th>\n",
       "    </tr>\n",
       "  </thead>\n",
       "  <tbody>\n",
       "    <tr>\n",
       "      <th>0</th>\n",
       "      <td>5.051583</td>\n",
       "      <td>6</td>\n",
       "      <td>5.051380</td>\n",
       "      <td>11</td>\n",
       "      <td>1.000000e-03</td>\n",
       "    </tr>\n",
       "    <tr>\n",
       "      <th>1</th>\n",
       "      <td>5.051619</td>\n",
       "      <td>9</td>\n",
       "      <td>5.051619</td>\n",
       "      <td>21</td>\n",
       "      <td>1.000000e-06</td>\n",
       "    </tr>\n",
       "    <tr>\n",
       "      <th>2</th>\n",
       "      <td>5.051619</td>\n",
       "      <td>12</td>\n",
       "      <td>5.051619</td>\n",
       "      <td>31</td>\n",
       "      <td>1.000000e-09</td>\n",
       "    </tr>\n",
       "  </tbody>\n",
       "</table>\n",
       "</div>"
      ],
      "text/plain": [
       "   roots_a_mod  steps_a_mod  roots_b_mod  steps_b_mod        errors\n",
       "0     5.051583            6     5.051380           11  1.000000e-03\n",
       "1     5.051619            9     5.051619           21  1.000000e-06\n",
       "2     5.051619           12     5.051619           31  1.000000e-09"
      ]
     },
     "execution_count": 20,
     "metadata": {},
     "output_type": "execute_result"
    }
   ],
   "source": [
    "df_sec_mod"
   ]
  },
  {
   "cell_type": "markdown",
   "id": "a32742b7",
   "metadata": {},
   "source": [
    "#### Скорость сходимости"
   ]
  },
  {
   "cell_type": "markdown",
   "id": "43fcae9c",
   "metadata": {},
   "source": [
    "Исследуем скорости сходимости методов"
   ]
  },
  {
   "attachments": {
    "image-2.png": {
     "image/png": "[encoded data removed]"
    }
   },
   "cell_type": "markdown",
   "id": "075599ae",
   "metadata": {},
   "source": [
    "![image-2.png](attachment:image-2.png)"
   ]
  },
  {
   "cell_type": "code",
   "execution_count": 21,
   "id": "38628506",
   "metadata": {},
   "outputs": [],
   "source": [
    "def dichotomy_speed(func, root, x0, x1):\n",
    "    \n",
    "    R = 0\n",
    "    \n",
    "    if (func(x0) * func(x1) < 0):\n",
    "        \n",
    "        if ((root - x1) != 0):\n",
    "            R = np.log(abs(root - x1)) / np.log(abs(root - x0))\n",
    "            \n",
    "            c = (x1 + x0) / 2\n",
    "\n",
    "            R1 = dichotomy_speed(func, root, x0, c)\n",
    "            R2 = dichotomy_speed(func, root, x1, c)\n",
    "            \n",
    "            if(R1 or R2):\n",
    "                \n",
    "                if R1:\n",
    "                    return R1\n",
    "                \n",
    "                else:\n",
    "                    return R2\n",
    "        \n",
    "    return R"
   ]
  },
  {
   "cell_type": "code",
   "execution_count": 22,
   "id": "33a2f2b8",
   "metadata": {},
   "outputs": [],
   "source": [
    "def Newton_speed(func, root, x0):\n",
    "    \n",
    "    R = 0\n",
    "    \n",
    "    while (f_first_deriative(x0) == 0):\n",
    "        x0 += 1.000000e-09\n",
    "    \n",
    "    x1 = x0 - f(x0) / f_first_deriative(x0)\n",
    "    \n",
    "    if (root - x1) != 0:    \n",
    "        \n",
    "        R = np.log(abs(root - x1)) / np.log(abs(root - x0))\n",
    "        r = Newton_speed(func, root, x1)\n",
    "        \n",
    "        if r:\n",
    "            return r\n",
    "    \n",
    "    return R"
   ]
  },
  {
   "cell_type": "code",
   "execution_count": 23,
   "id": "166155f1",
   "metadata": {},
   "outputs": [],
   "source": [
    "def secant_speed(func, root, x0, x1):  \n",
    "    \n",
    "    R = 0\n",
    "    \n",
    "    while ((root - x1) != 0):\n",
    "        R = np.log(abs(root - x1)) / np.log(abs(root - x0))\n",
    "        \n",
    "        x  = x0\n",
    "        x0 = x1\n",
    "        x1 = x - func(x) * (x - x1) / (func(x) - func(x1))\n",
    "        \n",
    "    return R"
   ]
  },
  {
   "cell_type": "code",
   "execution_count": 24,
   "id": "8b39dada",
   "metadata": {},
   "outputs": [],
   "source": [
    "def secant_mod_speed(func, root, c, x0):\n",
    "    \n",
    "    R = 0\n",
    "    x1 = x0\n",
    "    x0 = c\n",
    "    \n",
    "    while ((root - x1) != 0):\n",
    "        R = np.log(abs(root - x1)) / np.log(abs(root - x0))\n",
    "    \n",
    "        x0 = x1\n",
    "        x1 = x0 - func(x0) * (c - x0) / (func(c) - func(x0))\n",
    "    \n",
    "    return R"
   ]
  },
  {
   "cell_type": "code",
   "execution_count": 25,
   "id": "7f100275",
   "metadata": {},
   "outputs": [],
   "source": [
    "# корени соответсвующих методов\n",
    "x_dich    = df_dich['roots'][2]\n",
    "x_Newton  = df_newton['roots_a'][2]\n",
    "x_sec     = df_sec['roots_a'][2]\n",
    "x_sec_mod = df_sec_mod['roots_a_mod'][2]"
   ]
  },
  {
   "cell_type": "code",
   "execution_count": 26,
   "id": "a822a5f1",
   "metadata": {},
   "outputs": [],
   "source": [
    "R_dich    = dichotomy_speed(f, x_dich, a, b)\n",
    "R_Newton  = Newton_speed(f, x_Newton, a)\n",
    "R_sec     = secant_speed(f, x_sec, a, a + errors[2])\n",
    "R_sec_mod = secant_mod_speed(f, x_sec_mod, a, a + errors[2])"
   ]
  },
  {
   "cell_type": "code",
   "execution_count": 27,
   "id": "0d66d3f3",
   "metadata": {},
   "outputs": [
    {
     "name": "stdout",
     "output_type": "stream",
     "text": [
      "Dichotomy speed: 1.0 \n",
      "Newton method speed: 2.026658415974541 \n",
      "Secant method speed: 1.6309638320544488 \n",
      "Secant method modified speed: 1.1111479521512153\n"
     ]
    }
   ],
   "source": [
    "print(\"Dichotomy speed:\", R_dich,\n",
    "      \"\\nNewton method speed:\", R_Newton,\n",
    "      \"\\nSecant method speed:\", R_sec,\n",
    "      \"\\nSecant method modified speed:\", R_sec_mod\n",
    "     )"
   ]
  },
  {
   "cell_type": "markdown",
   "id": "675c95d4",
   "metadata": {},
   "source": [
    "### Результаты"
   ]
  },
  {
   "cell_type": "markdown",
   "id": "14405aef",
   "metadata": {},
   "source": [
    "##### Метод дихотомии"
   ]
  },
  {
   "cell_type": "code",
   "execution_count": 28,
   "id": "9e4aedc8",
   "metadata": {},
   "outputs": [
    {
     "data": {
      "text/html": [
       "<div>\n",
       "<style scoped>\n",
       "    .dataframe tbody tr th:only-of-type {\n",
       "        vertical-align: middle;\n",
       "    }\n",
       "\n",
       "    .dataframe tbody tr th {\n",
       "        vertical-align: top;\n",
       "    }\n",
       "\n",
       "    .dataframe thead th {\n",
       "        text-align: right;\n",
       "    }\n",
       "</style>\n",
       "<table border=\"1\" class=\"dataframe\">\n",
       "  <thead>\n",
       "    <tr style=\"text-align: right;\">\n",
       "      <th></th>\n",
       "      <th>roots</th>\n",
       "      <th>steps</th>\n",
       "      <th>errors</th>\n",
       "    </tr>\n",
       "  </thead>\n",
       "  <tbody>\n",
       "    <tr>\n",
       "      <th>0</th>\n",
       "      <td>5.051880</td>\n",
       "      <td>14</td>\n",
       "      <td>1.000000e-03</td>\n",
       "    </tr>\n",
       "    <tr>\n",
       "      <th>1</th>\n",
       "      <td>5.051620</td>\n",
       "      <td>24</td>\n",
       "      <td>1.000000e-06</td>\n",
       "    </tr>\n",
       "    <tr>\n",
       "      <th>2</th>\n",
       "      <td>5.051619</td>\n",
       "      <td>34</td>\n",
       "      <td>1.000000e-09</td>\n",
       "    </tr>\n",
       "  </tbody>\n",
       "</table>\n",
       "</div>"
      ],
      "text/plain": [
       "      roots  steps        errors\n",
       "0  5.051880     14  1.000000e-03\n",
       "1  5.051620     24  1.000000e-06\n",
       "2  5.051619     34  1.000000e-09"
      ]
     },
     "execution_count": 28,
     "metadata": {},
     "output_type": "execute_result"
    }
   ],
   "source": [
    "df_dich"
   ]
  },
  {
   "cell_type": "markdown",
   "id": "84c5766a",
   "metadata": {},
   "source": [
    "##### Метод Ньютона (касательных)"
   ]
  },
  {
   "cell_type": "code",
   "execution_count": 29,
   "id": "61d9d54d",
   "metadata": {},
   "outputs": [
    {
     "data": {
      "text/html": [
       "<div>\n",
       "<style scoped>\n",
       "    .dataframe tbody tr th:only-of-type {\n",
       "        vertical-align: middle;\n",
       "    }\n",
       "\n",
       "    .dataframe tbody tr th {\n",
       "        vertical-align: top;\n",
       "    }\n",
       "\n",
       "    .dataframe thead th {\n",
       "        text-align: right;\n",
       "    }\n",
       "</style>\n",
       "<table border=\"1\" class=\"dataframe\">\n",
       "  <thead>\n",
       "    <tr style=\"text-align: right;\">\n",
       "      <th></th>\n",
       "      <th>roots_a</th>\n",
       "      <th>steps_a</th>\n",
       "      <th>roots_b</th>\n",
       "      <th>steps_b</th>\n",
       "      <th>errors</th>\n",
       "    </tr>\n",
       "  </thead>\n",
       "  <tbody>\n",
       "    <tr>\n",
       "      <th>0</th>\n",
       "      <td>5.051619</td>\n",
       "      <td>7</td>\n",
       "      <td>5.051619</td>\n",
       "      <td>120</td>\n",
       "      <td>1.000000e-03</td>\n",
       "    </tr>\n",
       "    <tr>\n",
       "      <th>1</th>\n",
       "      <td>5.051619</td>\n",
       "      <td>8</td>\n",
       "      <td>5.051619</td>\n",
       "      <td>121</td>\n",
       "      <td>1.000000e-06</td>\n",
       "    </tr>\n",
       "    <tr>\n",
       "      <th>2</th>\n",
       "      <td>5.051619</td>\n",
       "      <td>9</td>\n",
       "      <td>5.051619</td>\n",
       "      <td>122</td>\n",
       "      <td>1.000000e-09</td>\n",
       "    </tr>\n",
       "  </tbody>\n",
       "</table>\n",
       "</div>"
      ],
      "text/plain": [
       "    roots_a  steps_a   roots_b  steps_b        errors\n",
       "0  5.051619        7  5.051619      120  1.000000e-03\n",
       "1  5.051619        8  5.051619      121  1.000000e-06\n",
       "2  5.051619        9  5.051619      122  1.000000e-09"
      ]
     },
     "execution_count": 29,
     "metadata": {},
     "output_type": "execute_result"
    }
   ],
   "source": [
    "df_newton"
   ]
  },
  {
   "cell_type": "markdown",
   "id": "4d7807f7",
   "metadata": {},
   "source": [
    "##### Метод хорд (секущих)"
   ]
  },
  {
   "cell_type": "code",
   "execution_count": 30,
   "id": "683761f0",
   "metadata": {},
   "outputs": [
    {
     "data": {
      "text/html": [
       "<div>\n",
       "<style scoped>\n",
       "    .dataframe tbody tr th:only-of-type {\n",
       "        vertical-align: middle;\n",
       "    }\n",
       "\n",
       "    .dataframe tbody tr th {\n",
       "        vertical-align: top;\n",
       "    }\n",
       "\n",
       "    .dataframe thead th {\n",
       "        text-align: right;\n",
       "    }\n",
       "</style>\n",
       "<table border=\"1\" class=\"dataframe\">\n",
       "  <thead>\n",
       "    <tr style=\"text-align: right;\">\n",
       "      <th></th>\n",
       "      <th>roots_a</th>\n",
       "      <th>steps_a</th>\n",
       "      <th>roots_b</th>\n",
       "      <th>steps_b</th>\n",
       "      <th>errors</th>\n",
       "    </tr>\n",
       "  </thead>\n",
       "  <tbody>\n",
       "    <tr>\n",
       "      <th>0</th>\n",
       "      <td>5.051623</td>\n",
       "      <td>6</td>\n",
       "      <td>5.051618</td>\n",
       "      <td>6</td>\n",
       "      <td>1.000000e-03</td>\n",
       "    </tr>\n",
       "    <tr>\n",
       "      <th>1</th>\n",
       "      <td>5.051619</td>\n",
       "      <td>8</td>\n",
       "      <td>5.051619</td>\n",
       "      <td>7</td>\n",
       "      <td>1.000000e-06</td>\n",
       "    </tr>\n",
       "    <tr>\n",
       "      <th>2</th>\n",
       "      <td>5.051619</td>\n",
       "      <td>9</td>\n",
       "      <td>5.051619</td>\n",
       "      <td>8</td>\n",
       "      <td>1.000000e-09</td>\n",
       "    </tr>\n",
       "  </tbody>\n",
       "</table>\n",
       "</div>"
      ],
      "text/plain": [
       "    roots_a  steps_a   roots_b  steps_b        errors\n",
       "0  5.051623        6  5.051618        6  1.000000e-03\n",
       "1  5.051619        8  5.051619        7  1.000000e-06\n",
       "2  5.051619        9  5.051619        8  1.000000e-09"
      ]
     },
     "execution_count": 30,
     "metadata": {},
     "output_type": "execute_result"
    }
   ],
   "source": [
    "df_sec"
   ]
  },
  {
   "cell_type": "code",
   "execution_count": 31,
   "id": "543ac2a0",
   "metadata": {},
   "outputs": [
    {
     "data": {
      "text/html": [
       "<div>\n",
       "<style scoped>\n",
       "    .dataframe tbody tr th:only-of-type {\n",
       "        vertical-align: middle;\n",
       "    }\n",
       "\n",
       "    .dataframe tbody tr th {\n",
       "        vertical-align: top;\n",
       "    }\n",
       "\n",
       "    .dataframe thead th {\n",
       "        text-align: right;\n",
       "    }\n",
       "</style>\n",
       "<table border=\"1\" class=\"dataframe\">\n",
       "  <thead>\n",
       "    <tr style=\"text-align: right;\">\n",
       "      <th></th>\n",
       "      <th>roots_a_mod</th>\n",
       "      <th>steps_a_mod</th>\n",
       "      <th>roots_b_mod</th>\n",
       "      <th>steps_b_mod</th>\n",
       "      <th>errors</th>\n",
       "    </tr>\n",
       "  </thead>\n",
       "  <tbody>\n",
       "    <tr>\n",
       "      <th>0</th>\n",
       "      <td>5.051583</td>\n",
       "      <td>6</td>\n",
       "      <td>5.051380</td>\n",
       "      <td>11</td>\n",
       "      <td>1.000000e-03</td>\n",
       "    </tr>\n",
       "    <tr>\n",
       "      <th>1</th>\n",
       "      <td>5.051619</td>\n",
       "      <td>9</td>\n",
       "      <td>5.051619</td>\n",
       "      <td>21</td>\n",
       "      <td>1.000000e-06</td>\n",
       "    </tr>\n",
       "    <tr>\n",
       "      <th>2</th>\n",
       "      <td>5.051619</td>\n",
       "      <td>12</td>\n",
       "      <td>5.051619</td>\n",
       "      <td>31</td>\n",
       "      <td>1.000000e-09</td>\n",
       "    </tr>\n",
       "  </tbody>\n",
       "</table>\n",
       "</div>"
      ],
      "text/plain": [
       "   roots_a_mod  steps_a_mod  roots_b_mod  steps_b_mod        errors\n",
       "0     5.051583            6     5.051380           11  1.000000e-03\n",
       "1     5.051619            9     5.051619           21  1.000000e-06\n",
       "2     5.051619           12     5.051619           31  1.000000e-09"
      ]
     },
     "execution_count": 31,
     "metadata": {},
     "output_type": "execute_result"
    }
   ],
   "source": [
    "df_sec_mod"
   ]
  },
  {
   "cell_type": "markdown",
   "id": "893f88b3",
   "metadata": {},
   "source": [
    "#### Скорость сходимости"
   ]
  },
  {
   "cell_type": "code",
   "execution_count": 32,
   "id": "9490e010",
   "metadata": {},
   "outputs": [
    {
     "name": "stdout",
     "output_type": "stream",
     "text": [
      "Dichotomy speed: 1.0 \n",
      "Newton method speed: 2.026658415974541 \n",
      "Secant method speed: 1.6309638320544488 \n",
      "Secant method modified speed: 1.1111479521512153\n"
     ]
    }
   ],
   "source": [
    "print(\"Dichotomy speed:\", R_dich,\n",
    "      \"\\nNewton method speed:\", R_Newton,\n",
    "      \"\\nSecant method speed:\", R_sec,\n",
    "      \"\\nSecant method modified speed:\", R_sec_mod\n",
    "     )"
   ]
  },
  {
   "cell_type": "code",
   "execution_count": null,
   "id": "2d7ca55c",
   "metadata": {},
   "outputs": [],
   "source": []
  }
 ],
 "metadata": {
  "kernelspec": {
   "display_name": "Python 3",
   "language": "python",
   "name": "python3"
  },
  "language_info": {
   "codemirror_mode": {
    "name": "ipython",
    "version": 3
   },
   "file_extension": ".py",
   "mimetype": "text/x-python",
   "name": "python",
   "nbconvert_exporter": "python",
   "pygments_lexer": "ipython3",
   "version": "3.8.8"
  }
 },
 "nbformat": 4,
 "nbformat_minor": 5
}
