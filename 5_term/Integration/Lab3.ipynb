{
 "cells": [
  {
   "cell_type": "markdown",
   "id": "798b68c3",
   "metadata": {},
   "source": [
    "# Численное интегрирование"
   ]
  },
  {
   "cell_type": "markdown",
   "id": "ed9644cd",
   "metadata": {},
   "source": [
    "## Вариант 20"
   ]
  },
  {
   "cell_type": "markdown",
   "id": "2f4447cd",
   "metadata": {},
   "source": [
    "> <span style=\"font-style:normal; font-size:12pt;\"> \n",
    "    <p> Во всех задачах требуется используя формулу прямоугольников, трапеции и Симпсона вычислить приближенное значение интеграла. Исследовать зависимость ошибки вычислений от шага сетки. </p>"
   ]
  },
  {
   "cell_type": "markdown",
   "id": "8fb1103a",
   "metadata": {},
   "source": [
    "$$\n",
    "\\begin{equation}\n",
    "f(x) = \\frac{1}{1 + e^x}, \\ \\ \\ {x \\in [-1, 1]}\n",
    "\\end{equation}\n",
    "$$"
   ]
  },
  {
   "cell_type": "code",
   "execution_count": 1,
   "id": "2dba8ded",
   "metadata": {},
   "outputs": [],
   "source": [
    "import numpy as np\n",
    "import matplotlib.pyplot as plt\n",
    "import pandas as pd"
   ]
  },
  {
   "cell_type": "code",
   "execution_count": 2,
   "id": "b8e9c059",
   "metadata": {},
   "outputs": [],
   "source": [
    "# исходная функция\n",
    "def f(x):\n",
    "    return 1 / (1 + np.exp(x))\n",
    "\n",
    "# интеграл на малом промежутке от xk до xk+1\n",
    "def f_integral(x0, x1):\n",
    "    return np.log(np.exp(x1 - x0) * (1 + np.exp(x0)) / (1 + np.exp(x1)))"
   ]
  },
  {
   "cell_type": "code",
   "execution_count": 3,
   "id": "c719de1d",
   "metadata": {},
   "outputs": [
    {
     "data": {
      "text/plain": [
       "1.0"
      ]
     },
     "execution_count": 3,
     "metadata": {},
     "output_type": "execute_result"
    }
   ],
   "source": [
    "# интерал исходной функции на заданном интервале\n",
    "\n",
    "integral_correct = np.log(np.exp(2) * (1 + np.exp(-1)) / (1 + np.exp(1)))\n",
    "\n",
    "# интервал\n",
    "a = -1\n",
    "b = 1\n",
    "\n",
    "integral_correct"
   ]
  },
  {
   "cell_type": "code",
   "execution_count": 4,
   "id": "868bf1ce",
   "metadata": {},
   "outputs": [],
   "source": [
    "x0_plot = np.linspace(a, b, 10)\n",
    "y0_plot = [f(x) for x in x0_plot]"
   ]
  },
  {
   "cell_type": "code",
   "execution_count": 5,
   "id": "4f1d1993",
   "metadata": {},
   "outputs": [
    {
     "data": {
      "image/png": "[encoded data removed]",
      "text/plain": [
       "<Figure size 1008x360 with 1 Axes>"
      ]
     },
     "metadata": {
      "needs_background": "light"
     },
     "output_type": "display_data"
    }
   ],
   "source": [
    "# график исходной функии\n",
    "fig, ax  = plt.subplots(figsize=(14, 5))\n",
    "\n",
    "ax.scatter(x0_plot, y0_plot, color=\"red\")\n",
    "ax.plot(x0_plot, y0_plot, color=\"red\", label='f(x) = 1/(1 + e^x)')\n",
    "\n",
    "ax.grid(which=\"major\", linewidth=1.2)\n",
    "ax.grid(which=\"minor\", linestyle=\"--\", color=\"gray\", linewidth=0.5)\n",
    "\n",
    "ax.set_xlabel(\"x\", fontsize=14)        \n",
    "ax.set_ylabel(\"y\", fontsize=14)\n",
    "\n",
    "plt.title(\"Исходная функция\")\n",
    "plt.legend()\n",
    "\n",
    "plt.show()\n"
   ]
  },
  {
   "cell_type": "markdown",
   "id": "7cb38e48",
   "metadata": {},
   "source": [
    "### Вычисления"
   ]
  },
  {
   "cell_type": "markdown",
   "id": "522609a0",
   "metadata": {},
   "source": [
    "#### Интеграл"
   ]
  },
  {
   "cell_type": "code",
   "execution_count": 6,
   "id": "27f22a44",
   "metadata": {},
   "outputs": [],
   "source": [
    "def rectangle_method(x_plot):\n",
    "    result = 0\n",
    "    error = 0    \n",
    "\n",
    "    for i in range(0, len(x_plot) - 1):\n",
    "        h = x_plot[i + 1] - x_plot[i]\n",
    "        x = x_plot[i]\n",
    "        integral = f(x + h / 2) * h\n",
    "        \n",
    "        error += abs(f_integral(x, x + h) - integral)\n",
    "        result += integral\n",
    "        \n",
    "    return result, error\n",
    "\n",
    "\n",
    "def trapezoid_method(x_plot):\n",
    "    result = 0\n",
    "    error = 0   \n",
    "    \n",
    "    for i in range(0, len(x_plot) - 1):\n",
    "        h = x_plot[i + 1] - x_plot[i]\n",
    "        x = x_plot[i]\n",
    "        integral = (f(x + h) + f(x)) * h / 2 \n",
    "        \n",
    "        error += abs(f_integral(x, x + h) - integral)\n",
    "        result += integral\n",
    "    \n",
    "    return result, error\n",
    "    \n",
    "    \n",
    "def Simpson_method(x_plot):\n",
    "    result = 0\n",
    "    error = 0   \n",
    "    \n",
    "    for i in range(0, len(x_plot) - 1):\n",
    "        h = x_plot[i + 1] - x_plot[i]\n",
    "        x = x_plot[i]\n",
    "        integral = h / 6 * (f(x) + 4 * f(x + h/2) + f(x + h))\n",
    "        \n",
    "        error += abs(f_integral(x, x + h) - integral)\n",
    "        result += integral\n",
    "        \n",
    "    return result, error\n",
    "\n",
    "\n",
    "def Gauss_method(x_plot):\n",
    "    result = 0\n",
    "    error = 0   \n",
    "    \n",
    "    x1 = (-1) / np.power(3, 1 / 2)\n",
    "    x2 = 1 / np.power(3, 1 / 2)\n",
    "        \n",
    "    for i in range(0, len(x_plot) - 1):\n",
    "        h = x_plot[i + 1] - x_plot[i]\n",
    "        a = x_plot[i]\n",
    "        \n",
    "        y1 = a + h / 2 + h / 2 * x1\n",
    "        y2 = a + h / 2 + h / 2 * x2\n",
    "    \n",
    "        integral = h / 2 * (f(y1) + f(y2))\n",
    "        \n",
    "        error += abs(f_integral(a, a + h) - integral)\n",
    "        result += integral\n",
    "    \n",
    "    return result, error"
   ]
  },
  {
   "cell_type": "code",
   "execution_count": 7,
   "id": "88fdad7d",
   "metadata": {},
   "outputs": [
    {
     "name": "stdout",
     "output_type": "stream",
     "text": [
      "Integral_correct: 1.0 \n",
      "Step: 0.2222222222222222\n"
     ]
    },
    {
     "data": {
      "text/html": [
       "<div>\n",
       "<style scoped>\n",
       "    .dataframe tbody tr th:only-of-type {\n",
       "        vertical-align: middle;\n",
       "    }\n",
       "\n",
       "    .dataframe tbody tr th {\n",
       "        vertical-align: top;\n",
       "    }\n",
       "\n",
       "    .dataframe thead th {\n",
       "        text-align: right;\n",
       "    }\n",
       "</style>\n",
       "<table border=\"1\" class=\"dataframe\">\n",
       "  <thead>\n",
       "    <tr style=\"text-align: right;\">\n",
       "      <th></th>\n",
       "      <th>index</th>\n",
       "      <th>Rectangle_method</th>\n",
       "      <th>Trapezoid_method</th>\n",
       "      <th>Simpson_method</th>\n",
       "      <th>Gauss_method</th>\n",
       "    </tr>\n",
       "  </thead>\n",
       "  <tbody>\n",
       "    <tr>\n",
       "      <th>0</th>\n",
       "      <td>integral</td>\n",
       "      <td>1.000000</td>\n",
       "      <td>1.000000</td>\n",
       "      <td>1.000000e+00</td>\n",
       "      <td>1.000000e+00</td>\n",
       "    </tr>\n",
       "    <tr>\n",
       "      <th>1</th>\n",
       "      <td>error</td>\n",
       "      <td>0.000217</td>\n",
       "      <td>0.000434</td>\n",
       "      <td>1.500006e-07</td>\n",
       "      <td>1.000333e-07</td>\n",
       "    </tr>\n",
       "  </tbody>\n",
       "</table>\n",
       "</div>"
      ],
      "text/plain": [
       "      index  Rectangle_method  Trapezoid_method  Simpson_method  Gauss_method\n",
       "0  integral          1.000000          1.000000    1.000000e+00  1.000000e+00\n",
       "1     error          0.000217          0.000434    1.500006e-07  1.000333e-07"
      ]
     },
     "execution_count": 7,
     "metadata": {},
     "output_type": "execute_result"
    }
   ],
   "source": [
    "index = {'index': ['integral', 'error'] }\n",
    "\n",
    "d_methods = {'Rectangle_method': rectangle_method(x0_plot), \n",
    "             'Trapezoid_method': trapezoid_method(x0_plot),\n",
    "             'Simpson_method':   Simpson_method(x0_plot),  \n",
    "             'Gauss_method':     Gauss_method(x0_plot), \n",
    "      }\n",
    "\n",
    "index = pd.DataFrame(index)\n",
    "df_methods = pd.DataFrame(data=d_methods)\n",
    "df_i = pd.concat([index, df_methods], axis=1)\n",
    "\n",
    "print('Integral_correct:', integral_correct, \n",
    "      '\\nStep:', x0_plot[1] -  x0_plot[0],\n",
    "     )\n",
    "df_i"
   ]
  },
  {
   "cell_type": "markdown",
   "id": "f7d1f34d",
   "metadata": {},
   "source": [
    "#### Ошибки"
   ]
  },
  {
   "cell_type": "code",
   "execution_count": 8,
   "id": "5be2b30b",
   "metadata": {},
   "outputs": [],
   "source": [
    "# количество узлов сетки\n",
    "\n",
    "node_min_count = 2\n",
    "node_max_count = 1000"
   ]
  },
  {
   "cell_type": "code",
   "execution_count": 9,
   "id": "aebc397c",
   "metadata": {},
   "outputs": [],
   "source": [
    "# вычисление ошибок\n",
    "\n",
    "h_plot = []\n",
    "rectangle_results ,rectangle_errors = [], []\n",
    "trapezoid_results, trapezoid_errors = [], []\n",
    "Simpson_results, Simpson_errors = [], []\n",
    "Gauss_results, Gauss_errors = [], []\n",
    "\n",
    "for n in np.arange(node_min_count, node_max_count + 1, step=10):    \n",
    "    \n",
    "    x1_plot, h = np.linspace(a, b, n, retstep=True)\n",
    "    \n",
    "    rectangle_result, rectangle_error = rectangle_method(x1_plot)\n",
    "    trapezoid_result, trapezoid_error = trapezoid_method(x1_plot)\n",
    "    Simpson_result, Simpson_error = Simpson_method(x1_plot)\n",
    "    Gauss_result, Gauss_error = Gauss_method(x1_plot)\n",
    "    \n",
    "    rectangle_results.append(rectangle_result)\n",
    "    trapezoid_results.append(trapezoid_result)\n",
    "    Simpson_results.append(Simpson_result)\n",
    "    Gauss_results.append(Gauss_result)\n",
    "    \n",
    "    rectangle_errors.append(rectangle_error)\n",
    "    trapezoid_errors.append(trapezoid_error)\n",
    "    Simpson_errors.append(Simpson_error)\n",
    "    Gauss_errors.append(Gauss_error)\n",
    "    \n",
    "    h_plot.append(h)"
   ]
  },
  {
   "cell_type": "code",
   "execution_count": 10,
   "id": "d921adc7",
   "metadata": {
    "scrolled": false
   },
   "outputs": [
    {
     "name": "stdout",
     "output_type": "stream",
     "text": [
      "Integral_correct: 1.0\n"
     ]
    },
    {
     "data": {
      "text/html": [
       "<div>\n",
       "<style scoped>\n",
       "    .dataframe tbody tr th:only-of-type {\n",
       "        vertical-align: middle;\n",
       "    }\n",
       "\n",
       "    .dataframe tbody tr th {\n",
       "        vertical-align: top;\n",
       "    }\n",
       "\n",
       "    .dataframe thead th {\n",
       "        text-align: right;\n",
       "    }\n",
       "</style>\n",
       "<table border=\"1\" class=\"dataframe\">\n",
       "  <thead>\n",
       "    <tr style=\"text-align: right;\">\n",
       "      <th></th>\n",
       "      <th>Step</th>\n",
       "      <th>I_rectangle_method</th>\n",
       "      <th>R_rectangle_method</th>\n",
       "      <th>I_trapezoid_method</th>\n",
       "      <th>R_trapezoid_method</th>\n",
       "      <th>I_Simpson_method</th>\n",
       "      <th>R_Simpson_method</th>\n",
       "      <th>I_Gauss_method</th>\n",
       "      <th>R_Gauss_method</th>\n",
       "    </tr>\n",
       "  </thead>\n",
       "  <tbody>\n",
       "    <tr>\n",
       "      <th>0</th>\n",
       "      <td>2.000000</td>\n",
       "      <td>1.0</td>\n",
       "      <td>0.000000</td>\n",
       "      <td>1.0</td>\n",
       "      <td>0.000000</td>\n",
       "      <td>1.0</td>\n",
       "      <td>0.000000e+00</td>\n",
       "      <td>1.0</td>\n",
       "      <td>0.000000e+00</td>\n",
       "    </tr>\n",
       "    <tr>\n",
       "      <th>1</th>\n",
       "      <td>0.181818</td>\n",
       "      <td>1.0</td>\n",
       "      <td>0.000146</td>\n",
       "      <td>1.0</td>\n",
       "      <td>0.000292</td>\n",
       "      <td>1.0</td>\n",
       "      <td>6.749511e-08</td>\n",
       "      <td>1.0</td>\n",
       "      <td>4.500664e-08</td>\n",
       "    </tr>\n",
       "    <tr>\n",
       "      <th>2</th>\n",
       "      <td>0.095238</td>\n",
       "      <td>1.0</td>\n",
       "      <td>0.000040</td>\n",
       "      <td>1.0</td>\n",
       "      <td>0.000081</td>\n",
       "      <td>1.0</td>\n",
       "      <td>5.111738e-09</td>\n",
       "      <td>1.0</td>\n",
       "      <td>3.408032e-09</td>\n",
       "    </tr>\n",
       "    <tr>\n",
       "      <th>3</th>\n",
       "      <td>0.064516</td>\n",
       "      <td>1.0</td>\n",
       "      <td>0.000018</td>\n",
       "      <td>1.0</td>\n",
       "      <td>0.000037</td>\n",
       "      <td>1.0</td>\n",
       "      <td>1.077780e-09</td>\n",
       "      <td>1.0</td>\n",
       "      <td>7.185381e-10</td>\n",
       "    </tr>\n",
       "    <tr>\n",
       "      <th>4</th>\n",
       "      <td>0.048780</td>\n",
       "      <td>1.0</td>\n",
       "      <td>0.000011</td>\n",
       "      <td>1.0</td>\n",
       "      <td>0.000021</td>\n",
       "      <td>1.0</td>\n",
       "      <td>3.523978e-10</td>\n",
       "      <td>1.0</td>\n",
       "      <td>2.349364e-10</td>\n",
       "    </tr>\n",
       "    <tr>\n",
       "      <th>5</th>\n",
       "      <td>0.039216</td>\n",
       "      <td>1.0</td>\n",
       "      <td>0.000007</td>\n",
       "      <td>1.0</td>\n",
       "      <td>0.000014</td>\n",
       "      <td>1.0</td>\n",
       "      <td>1.472220e-10</td>\n",
       "      <td>1.0</td>\n",
       "      <td>9.815276e-11</td>\n",
       "    </tr>\n",
       "    <tr>\n",
       "      <th>6</th>\n",
       "      <td>0.032787</td>\n",
       "      <td>1.0</td>\n",
       "      <td>0.000005</td>\n",
       "      <td>1.0</td>\n",
       "      <td>0.000010</td>\n",
       "      <td>1.0</td>\n",
       "      <td>7.194283e-11</td>\n",
       "      <td>1.0</td>\n",
       "      <td>4.796346e-11</td>\n",
       "    </tr>\n",
       "    <tr>\n",
       "      <th>7</th>\n",
       "      <td>0.028169</td>\n",
       "      <td>1.0</td>\n",
       "      <td>0.000004</td>\n",
       "      <td>1.0</td>\n",
       "      <td>0.000007</td>\n",
       "      <td>1.0</td>\n",
       "      <td>3.920004e-11</td>\n",
       "      <td>1.0</td>\n",
       "      <td>2.613689e-11</td>\n",
       "    </tr>\n",
       "    <tr>\n",
       "      <th>8</th>\n",
       "      <td>0.024691</td>\n",
       "      <td>1.0</td>\n",
       "      <td>0.000003</td>\n",
       "      <td>1.0</td>\n",
       "      <td>0.000005</td>\n",
       "      <td>1.0</td>\n",
       "      <td>2.314801e-11</td>\n",
       "      <td>1.0</td>\n",
       "      <td>1.542397e-11</td>\n",
       "    </tr>\n",
       "    <tr>\n",
       "      <th>9</th>\n",
       "      <td>0.021978</td>\n",
       "      <td>1.0</td>\n",
       "      <td>0.000002</td>\n",
       "      <td>1.0</td>\n",
       "      <td>0.000004</td>\n",
       "      <td>1.0</td>\n",
       "      <td>1.453201e-11</td>\n",
       "      <td>1.0</td>\n",
       "      <td>9.681932e-12</td>\n",
       "    </tr>\n",
       "    <tr>\n",
       "      <th>10</th>\n",
       "      <td>0.019802</td>\n",
       "      <td>1.0</td>\n",
       "      <td>0.000002</td>\n",
       "      <td>1.0</td>\n",
       "      <td>0.000003</td>\n",
       "      <td>1.0</td>\n",
       "      <td>9.574090e-12</td>\n",
       "      <td>1.0</td>\n",
       "      <td>6.383229e-12</td>\n",
       "    </tr>\n",
       "  </tbody>\n",
       "</table>\n",
       "</div>"
      ],
      "text/plain": [
       "        Step  I_rectangle_method  R_rectangle_method  I_trapezoid_method  \\\n",
       "0   2.000000                 1.0            0.000000                 1.0   \n",
       "1   0.181818                 1.0            0.000146                 1.0   \n",
       "2   0.095238                 1.0            0.000040                 1.0   \n",
       "3   0.064516                 1.0            0.000018                 1.0   \n",
       "4   0.048780                 1.0            0.000011                 1.0   \n",
       "5   0.039216                 1.0            0.000007                 1.0   \n",
       "6   0.032787                 1.0            0.000005                 1.0   \n",
       "7   0.028169                 1.0            0.000004                 1.0   \n",
       "8   0.024691                 1.0            0.000003                 1.0   \n",
       "9   0.021978                 1.0            0.000002                 1.0   \n",
       "10  0.019802                 1.0            0.000002                 1.0   \n",
       "\n",
       "    R_trapezoid_method  I_Simpson_method  R_Simpson_method  I_Gauss_method  \\\n",
       "0             0.000000               1.0      0.000000e+00             1.0   \n",
       "1             0.000292               1.0      6.749511e-08             1.0   \n",
       "2             0.000081               1.0      5.111738e-09             1.0   \n",
       "3             0.000037               1.0      1.077780e-09             1.0   \n",
       "4             0.000021               1.0      3.523978e-10             1.0   \n",
       "5             0.000014               1.0      1.472220e-10             1.0   \n",
       "6             0.000010               1.0      7.194283e-11             1.0   \n",
       "7             0.000007               1.0      3.920004e-11             1.0   \n",
       "8             0.000005               1.0      2.314801e-11             1.0   \n",
       "9             0.000004               1.0      1.453201e-11             1.0   \n",
       "10            0.000003               1.0      9.574090e-12             1.0   \n",
       "\n",
       "    R_Gauss_method  \n",
       "0     0.000000e+00  \n",
       "1     4.500664e-08  \n",
       "2     3.408032e-09  \n",
       "3     7.185381e-10  \n",
       "4     2.349364e-10  \n",
       "5     9.815276e-11  \n",
       "6     4.796346e-11  \n",
       "7     2.613689e-11  \n",
       "8     1.542397e-11  \n",
       "9     9.681932e-12  \n",
       "10    6.383229e-12  "
      ]
     },
     "execution_count": 10,
     "metadata": {},
     "output_type": "execute_result"
    }
   ],
   "source": [
    "d = {'Step': h_plot, \n",
    "     \n",
    "     'I_rectangle_method': rectangle_results,\n",
    "     'R_rectangle_method': rectangle_errors,\n",
    "     \n",
    "     'I_trapezoid_method': trapezoid_results, \n",
    "     'R_trapezoid_method': trapezoid_errors,\n",
    "     \n",
    "     'I_Simpson_method':   Simpson_results,   \n",
    "     'R_Simpson_method':   Simpson_errors,\n",
    "     \n",
    "     'I_Gauss_method':     Gauss_results,\n",
    "     'R_Gauss_method':     Gauss_errors\n",
    "    }\n",
    "\n",
    "print('Integral_correct:', integral_correct)\n",
    "\n",
    "df = pd.DataFrame(data=d)\n",
    "df.loc[0:10]\n",
    "# df"
   ]
  },
  {
   "cell_type": "code",
   "execution_count": 15,
   "id": "3c9e914a",
   "metadata": {
    "scrolled": true
   },
   "outputs": [
    {
     "name": "stdout",
     "output_type": "stream",
     "text": [
      "1.0\n",
      "1.0\n",
      "1.0\n",
      "1.0\n",
      "1.0000000000000002\n",
      "1.0\n",
      "0.9999999999999999\n",
      "0.9999999999999998\n",
      "0.9999999999999994\n",
      "0.9999999999999999\n",
      "1.0000000000000004\n",
      "0.9999999999999998\n",
      "1.0000000000000002\n",
      "1.0000000000000002\n",
      "0.9999999999999996\n",
      "0.9999999999999998\n",
      "0.9999999999999996\n",
      "0.9999999999999999\n",
      "1.0000000000000002\n",
      "1.0000000000000004\n",
      "1.0000000000000004\n",
      "1.0000000000000002\n",
      "0.9999999999999996\n",
      "1.0\n",
      "1.0000000000000002\n",
      "1.0000000000000004\n",
      "1.0\n",
      "1.0000000000000002\n",
      "1.0\n",
      "0.9999999999999999\n",
      "0.9999999999999998\n",
      "0.9999999999999999\n",
      "1.0000000000000002\n",
      "1.0\n",
      "0.9999999999999998\n",
      "1.000000000000001\n",
      "0.9999999999999999\n",
      "1.0000000000000002\n",
      "1.0\n",
      "0.9999999999999989\n",
      "0.9999999999999994\n",
      "0.9999999999999993\n",
      "1.0000000000000002\n",
      "0.9999999999999997\n",
      "1.0000000000000009\n",
      "1.0\n",
      "0.9999999999999993\n",
      "0.9999999999999993\n",
      "1.0000000000000002\n",
      "1.0000000000000002\n",
      "0.9999999999999991\n",
      "0.9999999999999996\n",
      "1.0000000000000002\n",
      "0.9999999999999996\n",
      "0.9999999999999991\n",
      "0.9999999999999999\n",
      "0.9999999999999992\n",
      "0.9999999999999993\n",
      "1.0000000000000002\n",
      "0.9999999999999993\n",
      "1.0000000000000002\n",
      "1.0000000000000009\n",
      "0.9999999999999999\n",
      "1.0000000000000009\n",
      "1.0000000000000009\n",
      "0.9999999999999999\n",
      "1.0000000000000007\n",
      "0.9999999999999996\n",
      "0.9999999999999998\n",
      "1.0000000000000004\n",
      "0.9999999999999998\n",
      "1.0000000000000009\n",
      "1.0000000000000013\n",
      "0.9999999999999998\n",
      "0.9999999999999992\n",
      "1.0000000000000002\n",
      "0.9999999999999992\n",
      "0.9999999999999999\n",
      "1.0000000000000002\n",
      "1.0000000000000009\n",
      "0.9999999999999998\n",
      "0.9999999999999991\n",
      "0.9999999999999986\n",
      "1.0000000000000002\n",
      "0.9999999999999996\n",
      "1.0000000000000009\n",
      "1.0000000000000007\n",
      "1.0000000000000004\n",
      "0.9999999999999983\n",
      "1.0000000000000004\n",
      "1.0000000000000002\n",
      "1.0000000000000004\n",
      "0.9999999999999997\n",
      "1.0000000000000004\n",
      "0.999999999999999\n",
      "0.9999999999999994\n",
      "0.9999999999999998\n",
      "0.999999999999999\n",
      "1.0000000000000004\n",
      "1.0\n"
     ]
    }
   ],
   "source": [
    "column = df['I_Gauss_method']\n",
    "\n",
    "for element in column:\n",
    "    print(element)"
   ]
  },
  {
   "cell_type": "markdown",
   "id": "078988d5",
   "metadata": {},
   "source": [
    "#### Вычисление коэффициентов (МНК для линейной регрессии)"
   ]
  },
  {
   "cell_type": "code",
   "execution_count": 12,
   "id": "0e8a4f68",
   "metadata": {},
   "outputs": [
    {
     "data": {
      "text/plain": [
       "[1.9995001930055, 1.9994571311749385, 2.6474179065800643, 2.4760765907700257]"
      ]
     },
     "execution_count": 12,
     "metadata": {},
     "output_type": "execute_result"
    }
   ],
   "source": [
    "ln_h_plot = np.log(h_plot[1:])\n",
    "\n",
    "ln_rectangle_errors = np.log(rectangle_errors[1:])\n",
    "ln_trapezoid_errors = np.log(trapezoid_errors[1:])\n",
    "ln_Simpson_errors   = np.log(Simpson_errors[1:])\n",
    "ln_Gauss_errors     = np.log(Gauss_errors[1:])\n",
    "\n",
    "ln_errors = [ln_rectangle_errors, ln_trapezoid_errors, ln_Simpson_errors, ln_Gauss_errors]\n",
    "b         = [0, 0, 0, 0]\n",
    "\n",
    "for b_index in range(len(b)):\n",
    "    \n",
    "    for index in range(len(ln_h_plot)):\n",
    "        b[b_index] += ln_h_plot[index] * ln_errors[b_index][index]\n",
    "    b[b_index] *= len(ln_h_plot)\n",
    "        \n",
    "    b[b_index] -= (np.sum(ln_h_plot) * np.sum(ln_errors[b_index]))\n",
    "    b[b_index] /= (len(ln_h_plot) * np.sum(np.power(ln_h_plot, 2)) - np.power(np.sum(ln_h_plot), 2))\n",
    "\n",
    "b"
   ]
  },
  {
   "cell_type": "code",
   "execution_count": 13,
   "id": "7f14f50c",
   "metadata": {},
   "outputs": [
    {
     "name": "stdout",
     "output_type": "stream",
     "text": [
      "1.9982036269652055 1.9980485524675446 2.965899073714897 2.8748399559946596\n"
     ]
    }
   ],
   "source": [
    "# сравнение с прошлым методом вычисления коэффициентов\n",
    "\n",
    "l = len(ln_h_plot) - 1\n",
    "\n",
    "k1 = (ln_rectangle_errors[l] - ln_rectangle_errors[0]) / (ln_h_plot[l] - ln_h_plot[0])\n",
    "k2 = (ln_trapezoid_errors[l] - ln_trapezoid_errors[0]) / (ln_h_plot[l] - ln_h_plot[0])\n",
    "k3 = (ln_Simpson_errors[l]   - ln_Simpson_errors[0])   / (ln_h_plot[l] - ln_h_plot[0])\n",
    "k4 = (ln_Gauss_errors[l]     - ln_Gauss_errors[0])     / (ln_h_plot[l] - ln_h_plot[0])\n",
    "\n",
    "print(k1, k2, k3, k4)"
   ]
  },
  {
   "cell_type": "markdown",
   "id": "144ba427",
   "metadata": {},
   "source": [
    "#### Графики ошибок"
   ]
  },
  {
   "cell_type": "code",
   "execution_count": 14,
   "id": "58be9f7b",
   "metadata": {},
   "outputs": [
    {
     "data": {
      "image/png": "[encoded data removed]",
      "text/plain": [
       "<Figure size 1008x576 with 1 Axes>"
      ]
     },
     "metadata": {
      "needs_background": "light"
     },
     "output_type": "display_data"
    }
   ],
   "source": [
    "# график зависимости ошибки от размера шага для интеграла\n",
    "\n",
    "fig, ax = plt.subplots(figsize=(14, 8))\n",
    "\n",
    "props = dict(boxstyle='square', facecolor='tomato', alpha=0.8)\n",
    "\n",
    "ax.scatter(ln_h_plot, ln_rectangle_errors, color=\"red\")\n",
    "ax.plot(ln_h_plot, ln_rectangle_errors, color=\"red\", label='Rectangle method')\n",
    "plt.text(ln_h_plot[5], ln_rectangle_errors[5] - 0.5, \"b = {0:.5f}\".format(b[0]), fontsize = 12, bbox=props)\n",
    "\n",
    "ax.scatter(ln_h_plot, ln_trapezoid_errors, color=\"green\")\n",
    "ax.plot(ln_h_plot, ln_trapezoid_errors, color=\"green\", label='Trapezoid method')\n",
    "plt.text(ln_h_plot[10], ln_trapezoid_errors[10] + 0.5, \"b = {0:.5f}\".format(b[1]), fontsize = 12, bbox=props)\n",
    "\n",
    "ax.scatter(ln_h_plot, ln_Simpson_errors, color=\"blue\")\n",
    "ax.plot(ln_h_plot, ln_Simpson_errors, color=\"blue\", label='Simpson method')\n",
    "plt.text(ln_h_plot[5], ln_Simpson_errors[5] + 0.5, \"b = {0:.5f}\".format(b[2]), fontsize = 12, bbox=props)\n",
    "\n",
    "ax.scatter(ln_h_plot, ln_Gauss_errors, color=\"brown\")\n",
    "ax.plot(ln_h_plot, ln_Gauss_errors, color=\"brown\", label='Gauss method')\n",
    "plt.text(ln_h_plot[10], ln_Gauss_errors[10] - 0.5, \"b = {0:.5f}\".format(b[3]), fontsize = 12, bbox=props)\n",
    "\n",
    "ax.grid(which=\"major\", linewidth=1.2)\n",
    "ax.grid(which=\"minor\", linestyle=\"--\", color=\"gray\", linewidth=0.5)\n",
    "\n",
    "ax.set_xlabel(\"ln(h)\", fontsize=14)        \n",
    "ax.set_ylabel(\"ln(R)\", fontsize=14)\n",
    "\n",
    "plt.title(\"Зависимость ошибки от размера шага для интеграла\")\n",
    "plt.legend()\n",
    "\n",
    "plt.show()"
   ]
  }
 ],
 "metadata": {
  "kernelspec": {
   "display_name": "Python 3",
   "language": "python",
   "name": "python3"
  },
  "language_info": {
   "codemirror_mode": {
    "name": "ipython",
    "version": 3
   },
   "file_extension": ".py",
   "mimetype": "text/x-python",
   "name": "python",
   "nbconvert_exporter": "python",
   "pygments_lexer": "ipython3",
   "version": "3.8.8"
  }
 },
 "nbformat": 4,
 "nbformat_minor": 5
}
