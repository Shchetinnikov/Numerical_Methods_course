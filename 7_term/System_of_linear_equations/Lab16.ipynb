{
 "cells": [
  {
   "cell_type": "markdown",
   "id": "37fdb57e",
   "metadata": {
    "id": "RM6sib6Y4mGy"
   },
   "source": [
    "# **Вариационные и проекционные методы решения краевых задач.**\n",
    "## **Метод конечных элементов.**"
   ]
  },
  {
   "cell_type": "markdown",
   "id": "5392c9c8",
   "metadata": {},
   "source": [
    "<span style=\"font-style:normal; font-size:14pt;\">\n",
    "Решить численно разностным методом и методом конечных элементов с кусочно-линейными базисными функциями граничную задачу:\n",
    "\n",
    "$$\n",
    "\\begin{cases}\n",
    "\\frac{\\partial^2 u}{\\partial x^2} = f(x), \\: 0 < x < 1  \\\\\n",
    "u(0) = 0  \\\\\n",
    "u(1) = 0  \\\\\n",
    "\\end{cases} \\\\\n",
    "f(x) = exp(-x)\n",
    "$$"
   ]
  },
  {
   "cell_type": "code",
   "execution_count": 1,
   "id": "39c70fea",
   "metadata": {},
   "outputs": [],
   "source": [
    "import numpy as np\n",
    "import matplotlib.pyplot as plt"
   ]
  },
  {
   "cell_type": "code",
   "execution_count": 2,
   "id": "2426b4d9",
   "metadata": {},
   "outputs": [],
   "source": [
    "# Аналитическое решение\n",
    "def solution(x):\n",
    "    return np.exp(-x) + (1 - 1 / np.exp(1)) * x - 1"
   ]
  },
  {
   "cell_type": "code",
   "execution_count": 3,
   "id": "cb85dba5",
   "metadata": {},
   "outputs": [],
   "source": [
    "# Вычисление констант СЛАУ\n",
    "def SLE_constants(x_plot, mu_1, mu_2, f):\n",
    "    N = len(x_plot)\n",
    "    h = x_plot[1] - x_plot[0]\n",
    "\n",
    "    a_plot = np.zeros(N, dtype=float)\n",
    "    b_plot = np.zeros(N, dtype=float)\n",
    "    c_plot = np.zeros(N, dtype=float)\n",
    "    f_plot = np.zeros(N, dtype=float)\n",
    "    \n",
    "    b_plot[0]     = 1\n",
    "    b_plot[N - 1] = 1\n",
    "\n",
    "    f_plot[0]     = mu_1\n",
    "    f_plot[N - 1] = mu_2\n",
    "\n",
    "    for i in range(1, N - 1):        \n",
    "        a_plot[i] = 1 / h**2\n",
    "        b_plot[i] = (-2) / h**2\n",
    "        c_plot[i] = 1 / h**2\n",
    "        f_plot[i] = f(x_plot[i])\n",
    "\n",
    "    return a_plot, b_plot, c_plot, f_plot"
   ]
  },
  {
   "cell_type": "code",
   "execution_count": 4,
   "id": "711aca03",
   "metadata": {},
   "outputs": [],
   "source": [
    "# Метод прогонки для решения СЛАУ\n",
    "def Thomas_algorithm(a_plot, b_plot, c_plot, f_plot):\n",
    "    n = len(f_plot)\n",
    "    y_plot = []\n",
    "        \n",
    "    A_plot = []\n",
    "    B_plot = []\n",
    "    \n",
    "    A0 = (-1) * c_plot[0] / b_plot[0]\n",
    "    B0 = f_plot[0] / b_plot[0]\n",
    "    \n",
    "    A_plot.append(A0)\n",
    "    B_plot.append(B0)\n",
    "    \n",
    "    for i in range(1, n - 1):\n",
    "        Ai = (-1) * c_plot[i] / (b_plot[i] + a_plot[i] * A_plot[i - 1])\n",
    "        A_plot.append(Ai)\n",
    "    \n",
    "    for i in range(1, n):\n",
    "        Bi = (f_plot[i] - a_plot[i] * B_plot[i - 1]) / (b_plot[i] + a_plot[i] * A_plot[i - 1])\n",
    "        B_plot.append(Bi)\n",
    "    \n",
    "    An = 0   \n",
    "    A_plot.append(An)    \n",
    "    \n",
    "    y_plot.append(B_plot[n - 1])\n",
    "    \n",
    "    for i in range(n - 2, -1, -1):\n",
    "        yi = B_plot[i] + A_plot[i] * y_plot[0]\n",
    "        y_plot.insert(0, yi)\n",
    "    \n",
    "    return y_plot"
   ]
  },
  {
   "cell_type": "code",
   "execution_count": 5,
   "id": "b91b3697",
   "metadata": {},
   "outputs": [],
   "source": [
    "# Базис и его производные\n",
    "def basis_i(x_plot, i):\n",
    "    def psi_i(x):\n",
    "        return np.piecewise( \n",
    "            x, \n",
    "            [x_plot[i - 1] <= x <= x_plot[i], \n",
    "             x_plot[i]     <  x <= x_plot[i + 1],\n",
    "             x < x_plot[i - 1] or x > x_plot[i + 1],\n",
    "            ],\n",
    "            [\n",
    "                lambda x: (x - x_plot[i - 1]) / (x_plot[i] - x_plot[i - 1]),\n",
    "                lambda x: (x_plot[i + 1] - x) / (x_plot[i + 1] - x_plot[i]),\n",
    "                lambda x: 0\n",
    "            ])\n",
    "    def dpsi_i(x):\n",
    "        return np.piecewise( \n",
    "            x, \n",
    "            [x_plot[i - 1] <= x <= x_plot[i], \n",
    "             x_plot[i]     <  x <= x_plot[i + 1],\n",
    "             x < x_plot[i - 1] or x > x_plot[i + 1],\n",
    "            ],\n",
    "            [\n",
    "                lambda x: 1 / (x_plot[i] - x_plot[i - 1]),\n",
    "                lambda x: (-1) / (x_plot[i + 1] - x_plot[i]),\n",
    "                lambda x: 0\n",
    "            ])\n",
    "    return psi_i, dpsi_i"
   ]
  },
  {
   "cell_type": "code",
   "execution_count": 6,
   "id": "21243db7",
   "metadata": {},
   "outputs": [],
   "source": [
    "def calc_a(x_plot):\n",
    "    N = len(x_plot) - 2\n",
    "    A = np.zeros((N, N), dtype=float)\n",
    "    \n",
    "    for i in range(1, N + 1):\n",
    "        for j in range(1, N + 1):\n",
    "            if i == j:\n",
    "                A[i - 1, j - 1] = 1 / (x_plot[i] - x_plot[i - 1]) + 1 / (x_plot[i + 1] - x_plot[i])\n",
    "            elif i == j + 1 or j == i + 1:\n",
    "                A[i - 1, j - 1] = (-1) / (x_plot[i + 1] - x_plot[i])\n",
    "            else:\n",
    "                A[i - 1, j - 1] = 0           \n",
    "    return A"
   ]
  },
  {
   "cell_type": "code",
   "execution_count": 7,
   "id": "6b4ca3d9",
   "metadata": {},
   "outputs": [],
   "source": [
    "def calc_b(x_plot, f):\n",
    "    N = len(x_plot) - 2\n",
    "    B = np.zeros(N, dtype=float)\n",
    "    \n",
    "    for i in range(1, N + 1):\n",
    "        h_i = x_plot[i] - x_plot[i - 1]\n",
    "        B[i - 1] = f(x_plot[i]) * h_i\n",
    "    return (-1) * B"
   ]
  },
  {
   "cell_type": "markdown",
   "id": "bdf650e2",
   "metadata": {
    "id": "Nbug2sAp5TWb"
   },
   "source": [
    "### **Постановка задачи**"
   ]
  },
  {
   "cell_type": "code",
   "execution_count": 8,
   "id": "96785b0f",
   "metadata": {},
   "outputs": [],
   "source": [
    "# Неоднородность\n",
    "def f(x):\n",
    "    return np.exp(-x) \n",
    "\n",
    "# Граничные условия\n",
    "mu_1 = 0\n",
    "mu_2 = 0"
   ]
  },
  {
   "cell_type": "code",
   "execution_count": 9,
   "id": "c5951189",
   "metadata": {},
   "outputs": [],
   "source": [
    "left  = 0\n",
    "right = 1\n",
    "h     = 0.05\n",
    "\n",
    "x_plot = np.linspace(left, right, round((right - left) / h) + 1)"
   ]
  },
  {
   "cell_type": "markdown",
   "id": "0891bd32",
   "metadata": {
    "id": "Nbug2sAp5TWb"
   },
   "source": [
    "#### **Аналитическое решение**"
   ]
  },
  {
   "cell_type": "code",
   "execution_count": 10,
   "id": "33dbd52e",
   "metadata": {},
   "outputs": [],
   "source": [
    "u0_plot = solution(x_plot)"
   ]
  },
  {
   "cell_type": "code",
   "execution_count": 11,
   "id": "f135f50f",
   "metadata": {},
   "outputs": [
    {
     "data": {
      "text/plain": [
       "[<matplotlib.lines.Line2D at 0x1fb6d52ca90>]"
      ]
     },
     "execution_count": 11,
     "metadata": {},
     "output_type": "execute_result"
    },
    {
     "data": {
      "image/png": "[encoded data removed]",
      "text/plain": [
       "<Figure size 432x288 with 1 Axes>"
      ]
     },
     "metadata": {
      "needs_background": "light"
     },
     "output_type": "display_data"
    }
   ],
   "source": [
    "plt.plot(x_plot, u0_plot)"
   ]
  },
  {
   "cell_type": "markdown",
   "id": "72a9d9ca",
   "metadata": {
    "id": "Nbug2sAp5TWb"
   },
   "source": [
    "### **Конечно-разностный метод**"
   ]
  },
  {
   "cell_type": "code",
   "execution_count": 12,
   "id": "523230d9",
   "metadata": {},
   "outputs": [],
   "source": [
    "a1_plot, b1_plot, c1_plot, f1_plot = SLE_constants(x_plot, mu_1, mu_2, f)\n",
    "u1_plot = Thomas_algorithm(a1_plot, b1_plot, c1_plot, f1_plot)"
   ]
  },
  {
   "cell_type": "code",
   "execution_count": 13,
   "id": "986baaa7",
   "metadata": {},
   "outputs": [
    {
     "data": {
      "text/plain": [
       "<matplotlib.legend.Legend at 0x1fb6f6015b0>"
      ]
     },
     "execution_count": 13,
     "metadata": {},
     "output_type": "execute_result"
    },
    {
     "data": {
      "image/png": "[encoded data removed]",
      "text/plain": [
       "<Figure size 864x432 with 1 Axes>"
      ]
     },
     "metadata": {
      "needs_background": "light"
     },
     "output_type": "display_data"
    }
   ],
   "source": [
    "plt.figure(figsize=(12, 6))\n",
    "\n",
    "plt.plot(x_plot, u0_plot, label=\"Analytical\")\n",
    "plt.plot(x_plot, u1_plot, label=\"Numerical\")\n",
    "\n",
    "plt.title(\"Конечно-разностный метод\")\n",
    "plt.legend()"
   ]
  },
  {
   "cell_type": "code",
   "execution_count": 14,
   "id": "ad083681",
   "metadata": {},
   "outputs": [
    {
     "data": {
      "text/plain": [
       "1.6230803785835524e-05"
      ]
     },
     "execution_count": 14,
     "metadata": {},
     "output_type": "execute_result"
    }
   ],
   "source": [
    "np.max(np.abs(u1_plot - u0_plot))"
   ]
  },
  {
   "cell_type": "markdown",
   "id": "5126c03a",
   "metadata": {
    "id": "Nbug2sAp5TWb"
   },
   "source": [
    "### **Метод конечных элементов**"
   ]
  },
  {
   "cell_type": "code",
   "execution_count": 15,
   "id": "7141d521",
   "metadata": {
    "scrolled": true
   },
   "outputs": [],
   "source": [
    "A = calc_a(x_plot)\n",
    "B = calc_b(x_plot, f)"
   ]
  },
  {
   "cell_type": "code",
   "execution_count": 16,
   "id": "62a3a1f0",
   "metadata": {},
   "outputs": [],
   "source": [
    "N = len(x_plot) - 2\n",
    "\n",
    "a2_plot = np.zeros(N, dtype=float)\n",
    "b2_plot = np.zeros(N, dtype=float)\n",
    "c2_plot = np.zeros(N, dtype=float)\n",
    "f2_plot = np.zeros(N, dtype=float)\n",
    "\n",
    "a2_plot[1:]  = A.diagonal(-1)\n",
    "b2_plot      = A.diagonal()\n",
    "c2_plot[:-1] = A.diagonal(1)\n",
    "f2_plot = B"
   ]
  },
  {
   "cell_type": "code",
   "execution_count": 17,
   "id": "57763527",
   "metadata": {
    "scrolled": true
   },
   "outputs": [],
   "source": [
    "c_plot = np.array(Thomas_algorithm(a2_plot, b2_plot, c2_plot, f2_plot))"
   ]
  },
  {
   "cell_type": "code",
   "execution_count": 18,
   "id": "96e535d8",
   "metadata": {},
   "outputs": [],
   "source": [
    "u2_plot = np.zeros(len(x_plot), dtype=float)\n",
    "\n",
    "for i in range(1, len(x_plot) - 1):\n",
    "    u2_plot += c_plot[i - 1] * np.array([basis_i(x_plot, i)[0](x) for x in x_plot])"
   ]
  },
  {
   "cell_type": "code",
   "execution_count": 19,
   "id": "b003f73a",
   "metadata": {
    "scrolled": false
   },
   "outputs": [
    {
     "data": {
      "text/plain": [
       "<matplotlib.legend.Legend at 0x1fb6f7fb040>"
      ]
     },
     "execution_count": 19,
     "metadata": {},
     "output_type": "execute_result"
    },
    {
     "data": {
      "image/png": "[encoded data removed]",
      "text/plain": [
       "<Figure size 864x432 with 1 Axes>"
      ]
     },
     "metadata": {
      "needs_background": "light"
     },
     "output_type": "display_data"
    }
   ],
   "source": [
    "plt.figure(figsize=(12, 6))\n",
    "\n",
    "plt.plot(x_plot, u0_plot, label=\"Analytical\")\n",
    "plt.plot(x_plot, u2_plot, label=\"Numerical\")\n",
    "\n",
    "plt.title(\"Метод конечных элементов\")\n",
    "plt.legend()"
   ]
  },
  {
   "cell_type": "code",
   "execution_count": 20,
   "id": "7ace7c18",
   "metadata": {},
   "outputs": [
    {
     "data": {
      "text/plain": [
       "1.6230803785904913e-05"
      ]
     },
     "execution_count": 20,
     "metadata": {},
     "output_type": "execute_result"
    }
   ],
   "source": [
    "np.max(np.abs(u0_plot - u2_plot))"
   ]
  }
 ],
 "metadata": {
  "kernelspec": {
   "display_name": "Python 3",
   "language": "python",
   "name": "python3"
  },
  "language_info": {
   "codemirror_mode": {
    "name": "ipython",
    "version": 3
   },
   "file_extension": ".py",
   "mimetype": "text/x-python",
   "name": "python",
   "nbconvert_exporter": "python",
   "pygments_lexer": "ipython3",
   "version": "3.8.8"
  }
 },
 "nbformat": 4,
 "nbformat_minor": 5
}
