{
 "cells": [
  {
   "cell_type": "markdown",
   "id": "e729fceb",
   "metadata": {},
   "source": [
    "# Итерационные методы решения СЛАУ\n",
    "## Метод Зейделя"
   ]
  },
  {
   "cell_type": "code",
   "execution_count": 1,
   "id": "0fab2e19",
   "metadata": {},
   "outputs": [],
   "source": [
    "import random\n",
    "import numpy as np\n",
    "from matplotlib import pyplot as plt"
   ]
  },
  {
   "cell_type": "code",
   "execution_count": 2,
   "id": "2935aedc",
   "metadata": {},
   "outputs": [],
   "source": [
    "# Невязка\n",
    "def residual(A, X, F):\n",
    "    return np.linalg.norm(np.dot(A,X) - F)\n",
    "\n",
    "# Число обусловленности\n",
    "def condition_num(A):\n",
    "    A_inv = np.linalg.inv(A)\n",
    "    \n",
    "    A_norm = np.linalg.norm(A, np.inf)\n",
    "    A_inv_norm = np.linalg.norm(A_inv, np.inf)\n",
    "    \n",
    "    mu = A_norm * A_inv_norm\n",
    "    \n",
    "    return mu"
   ]
  },
  {
   "cell_type": "code",
   "execution_count": 3,
   "id": "6ca5b643",
   "metadata": {},
   "outputs": [],
   "source": [
    "def Seidel_method(A_copy, F_copy, X_init, eps):\n",
    "    \n",
    "    error = 10   # начальная погрешность \n",
    "    n = X_init.shape[0]\n",
    "    \n",
    "    X = X_init    \n",
    "    while error >= eps:\n",
    "        \n",
    "        X_prev = X\n",
    "        X = np.zeros(n).reshape((n, 1))\n",
    "        \n",
    "        for i in range(n):\n",
    "            sum_1 = sum([A[i, j] * X_prev[j, 0] / A[i, i] for j in range(i + 1, n)])\n",
    "            \n",
    "            if i - 1 < 0:\n",
    "                X[i, 0] = (-1) * sum_1 + F[i, 0] / A[i, i]\n",
    "            else:\n",
    "                sum_2 = sum([A[i, j] * X[j, 0] / A[i, i] for j in range(i - 1)])\n",
    "                X[i, 0] = (-1) * sum_2 - sum_1 + F[i, 0] / A[i, i]\n",
    "        \n",
    "        error = max(abs((X - X_prev).flatten()))\n",
    "        print(error)\n",
    "    \n",
    "    return X        "
   ]
  },
  {
   "cell_type": "code",
   "execution_count": 4,
   "id": "1b44ca23",
   "metadata": {},
   "outputs": [],
   "source": [
    "# Решение СЛАУ\n",
    "def solve_SLE(A, F, X_init, eps):\n",
    "    A_copy = np.array(A)\n",
    "    F_copy = np.array(F)\n",
    "    \n",
    "    # Диагональные элементы не ноль\n",
    "#     permutation(A_copy, F_copy)  # перестановка строк\n",
    "\n",
    "    X = Seidel_method(A_copy, F_copy, X_init, eps)\n",
    "    \n",
    "    return X"
   ]
  },
  {
   "cell_type": "markdown",
   "id": "375589ca",
   "metadata": {},
   "source": [
    "## Исходные данные"
   ]
  },
  {
   "cell_type": "code",
   "execution_count": 5,
   "id": "0dee9a4b",
   "metadata": {},
   "outputs": [],
   "source": [
    "n   = 3\n",
    "eps = 10**(-15)"
   ]
  },
  {
   "cell_type": "code",
   "execution_count": 6,
   "id": "a48599c2",
   "metadata": {},
   "outputs": [],
   "source": [
    "A  = np.zeros((n, n))\n",
    "F  = np.zeros(n).reshape((n, 1))\n",
    "X_init = np.zeros(n).reshape((n, 1)) "
   ]
  },
  {
   "cell_type": "code",
   "execution_count": 7,
   "id": "5d819e07",
   "metadata": {},
   "outputs": [
    {
     "name": "stdout",
     "output_type": "stream",
     "text": [
      "[11.02015193  0.16716207  4.53716455]\n"
     ]
    }
   ],
   "source": [
    "flag = 0\n",
    "\n",
    "while flag != 1:\n",
    "    for i in range(n):\n",
    "        for j in range(i + 1, n):\n",
    "            A[i, j] = random.random() * 10 * random.choice([1, -1])\n",
    "            A[j, i] = A[i, j]\n",
    "        \n",
    "        A[i, i] = random.random() * 10 * random.choice([1, -1])\n",
    "        F[i, 0] = random.random() * 10 * random.choice([1, -1])\n",
    "        \n",
    "        while A[i, i] == 0:\n",
    "            A[i, i] = random.random() * 10 * random.choice([1, -1])\n",
    "    \n",
    "    w, v = np.linalg.eig(A)\n",
    "    \n",
    "    if all(np.logical_and(np.imag(w) == 0, w > 0)):\n",
    "        print(w)\n",
    "        flag = 1"
   ]
  },
  {
   "cell_type": "code",
   "execution_count": 8,
   "id": "75c3e842",
   "metadata": {},
   "outputs": [],
   "source": [
    "# A = np.array([[100, 99],[99, 98]])\n",
    "# F = np.array([199, 197]).reshape((2, 1)) \n",
    "# X_init = np.ones(2).reshape((2, 1))"
   ]
  },
  {
   "cell_type": "code",
   "execution_count": 9,
   "id": "6cfb9edd",
   "metadata": {},
   "outputs": [
    {
     "name": "stdout",
     "output_type": "stream",
     "text": [
      "A =  [[ 3.89633159 -4.53437926 -2.33488053]\n",
      " [-4.53437926  7.33172726  0.66317966]\n",
      " [-2.33488053  0.66317966  4.4964197 ]]\n",
      "\n",
      "F =  [[-7.16019181]\n",
      " [ 9.78937943]\n",
      " [ 3.56011528]]\n",
      "\n"
     ]
    }
   ],
   "source": [
    "print('A = ', A, end='\\n\\n')\n",
    "print('F = ', F, end='\\n\\n')"
   ]
  },
  {
   "cell_type": "markdown",
   "id": "70d2c145",
   "metadata": {},
   "source": [
    "## Метод Зейделя"
   ]
  },
  {
   "cell_type": "code",
   "execution_count": 10,
   "id": "0e23022a",
   "metadata": {
    "scrolled": true
   },
   "outputs": [
    {
     "name": "stdout",
     "output_type": "stream",
     "text": [
      "1.8376751673727907\n",
      "1.4564820003517982\n",
      "0.4703276823772089\n",
      "0.06674078928533733\n",
      "0.004940845513846881\n",
      "0.0051856519854214245\n",
      "0.001343576275305347\n",
      "0.00013463161256321854\n",
      "3.154824646323107e-05\n",
      "1.717628654107628e-05\n",
      "3.6203672697521228e-06\n",
      "1.8768435672278372e-07\n",
      "1.394931876674832e-07\n",
      "5.36661626249213e-08\n",
      "9.074678786191726e-09\n",
      "4.262397101939541e-10\n",
      "5.301652450384609e-10\n",
      "1.589801623680387e-10\n",
      "2.0491386365506514e-11\n",
      "2.3141488725286763e-12\n",
      "1.8398615964088094e-12\n",
      "4.4630965589931293e-13\n",
      "3.8191672047105385e-14\n",
      "1.2434497875801753e-14\n",
      "5.773159728050814e-15\n",
      "1.5543122344752192e-15\n",
      "2.220446049250313e-16\n"
     ]
    }
   ],
   "source": [
    "try:\n",
    "    X = solve_SLE(A, F, X_init, eps)\n",
    "except ValueError as value_error:\n",
    "    print(value_error)"
   ]
  },
  {
   "cell_type": "code",
   "execution_count": 11,
   "id": "964a8c0f",
   "metadata": {},
   "outputs": [
    {
     "name": "stdout",
     "output_type": "stream",
     "text": [
      "Невязка:  1.0597013032056792\n"
     ]
    }
   ],
   "source": [
    "print(\"Невязка: \", residual(A, X, F))"
   ]
  },
  {
   "cell_type": "code",
   "execution_count": 12,
   "id": "f89c8347",
   "metadata": {},
   "outputs": [
    {
     "name": "stdout",
     "output_type": "stream",
     "text": [
      "Число обусловленности:  98.15538702475425\n"
     ]
    }
   ],
   "source": [
    "print(\"Число обусловленности: \", condition_num(A))"
   ]
  },
  {
   "cell_type": "code",
   "execution_count": 13,
   "id": "0759ff1b",
   "metadata": {},
   "outputs": [
    {
     "data": {
      "text/plain": [
       "array([[-7.16019181],\n",
       "       [ 9.13496453],\n",
       "       [ 4.39360672]])"
      ]
     },
     "execution_count": 13,
     "metadata": {},
     "output_type": "execute_result"
    }
   ],
   "source": [
    "np.dot(A,X)"
   ]
  },
  {
   "cell_type": "code",
   "execution_count": 14,
   "id": "355dd011",
   "metadata": {},
   "outputs": [
    {
     "data": {
      "text/plain": [
       "array([[-7.16019181],\n",
       "       [ 9.78937943],\n",
       "       [ 3.56011528]])"
      ]
     },
     "execution_count": 14,
     "metadata": {},
     "output_type": "execute_result"
    }
   ],
   "source": [
    "F"
   ]
  },
  {
   "cell_type": "markdown",
   "id": "d6eeeefb",
   "metadata": {},
   "source": [
    "<!-- ![image-2.png](attachment:image-2.png) -->"
   ]
  },
  {
   "cell_type": "markdown",
   "id": "2fdc1a01",
   "metadata": {},
   "source": [
    "<!-- ![image.png](attachment:image.png) -->"
   ]
  }
 ],
 "metadata": {
  "kernelspec": {
   "display_name": "Python 3",
   "language": "python",
   "name": "python3"
  },
  "language_info": {
   "codemirror_mode": {
    "name": "ipython",
    "version": 3
   },
   "file_extension": ".py",
   "mimetype": "text/x-python",
   "name": "python",
   "nbconvert_exporter": "python",
   "pygments_lexer": "ipython3",
   "version": "3.8.8"
  }
 },
 "nbformat": 4,
 "nbformat_minor": 5
}
