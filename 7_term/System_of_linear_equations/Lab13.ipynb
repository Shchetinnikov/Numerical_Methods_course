{
 "cells": [
  {
   "cell_type": "markdown",
   "id": "e729fceb",
   "metadata": {},
   "source": [
    "# Итерационные методы решения СЛАУ\n",
    "## Метод Зейделя"
   ]
  },
  {
   "cell_type": "code",
   "execution_count": 1,
   "id": "0fab2e19",
   "metadata": {},
   "outputs": [],
   "source": [
    "import random\n",
    "import numpy as np\n",
    "from matplotlib import pyplot as plt"
   ]
  },
  {
   "cell_type": "code",
   "execution_count": 2,
   "id": "2935aedc",
   "metadata": {},
   "outputs": [],
   "source": [
    "# Невязка\n",
    "def residual(A, X, F):\n",
    "    return np.linalg.norm(np.dot(A,X) - F)\n",
    "\n",
    "# Число обусловленности\n",
    "def condition_num(A):\n",
    "    A_inv = np.linalg.inv(A)\n",
    "    \n",
    "    A_norm     = np.linalg.norm(A, np.inf)\n",
    "    A_inv_norm = np.linalg.norm(A_inv, np.inf)\n",
    "    \n",
    "    mu = A_norm * A_inv_norm\n",
    "    \n",
    "    return mu"
   ]
  },
  {
   "cell_type": "code",
   "execution_count": 3,
   "id": "6ca5b643",
   "metadata": {},
   "outputs": [],
   "source": [
    "def Seidel_method(A_copy, F_copy, X_init, eps):\n",
    "    \n",
    "    error = 10   # начальная погрешность \n",
    "    n = X_init.shape[0]\n",
    "    \n",
    "    X_prev = X_init\n",
    "    iterations = 0\n",
    "    \n",
    "    while error >= eps:\n",
    "        X = np.zeros(n).reshape((n, 1))\n",
    "        \n",
    "        for i in range(n):\n",
    "            sum_1 = np.sum([A[i, j] * X[j, 0]      for j in range(i)])\n",
    "            sum_2 = np.sum([A[i, j] * X_prev[j, 0] for j in range(i + 1, n)])\n",
    "            \n",
    "            X[i, 0] = ((-1) * sum_1 + (-1) * sum_2 + F[i, 0]) / A[i, i]\n",
    "            \n",
    "        error = max(abs((X - X_prev).flatten()))\n",
    "        \n",
    "        iterations += 1\n",
    "        X_prev = X        \n",
    "    \n",
    "    return X, iterations        "
   ]
  },
  {
   "cell_type": "code",
   "execution_count": 4,
   "id": "1b44ca23",
   "metadata": {},
   "outputs": [],
   "source": [
    "# Решение СЛАУ\n",
    "def solve_SLE(A, F, X_init, eps):\n",
    "    A_copy = np.array(A)\n",
    "    F_copy = np.array(F)\n",
    "    \n",
    "    X, iterations = Seidel_method(A_copy, F_copy, X_init, eps)\n",
    "    \n",
    "    return X, iterations"
   ]
  },
  {
   "cell_type": "markdown",
   "id": "375589ca",
   "metadata": {},
   "source": [
    "## Исходные данные"
   ]
  },
  {
   "cell_type": "code",
   "execution_count": 5,
   "id": "0dee9a4b",
   "metadata": {},
   "outputs": [],
   "source": [
    "n   = 5\n",
    "eps = 1.0e-15"
   ]
  },
  {
   "cell_type": "code",
   "execution_count": 6,
   "id": "a48599c2",
   "metadata": {},
   "outputs": [],
   "source": [
    "# A  = np.zeros((n, n))\n",
    "L_T = np.zeros((n, n))\n",
    "F   = np.zeros(n).reshape((n, 1))\n",
    "X_init = np.ones(n).reshape((n, 1)) "
   ]
  },
  {
   "cell_type": "code",
   "execution_count": 7,
   "id": "5d819e07",
   "metadata": {},
   "outputs": [],
   "source": [
    "for i in range(n):\n",
    "    for j in range(i + 1, n):\n",
    "        L_T[i, j] = random.random() * 10 * random.choice([1, -1])\n",
    "    L_T[i, i] = random.random() * 10 + 1\n",
    "    F[i, 0]   = random.random() * 10\n",
    "    \n",
    "L = np.transpose(L_T)    \n",
    "A = np.dot(L, L_T)"
   ]
  },
  {
   "cell_type": "code",
   "execution_count": 8,
   "id": "6cfb9edd",
   "metadata": {},
   "outputs": [
    {
     "name": "stdout",
     "output_type": "stream",
     "text": [
      "A =  [[ 39.67085698 -58.87809015 -34.5075633   39.94651562 -46.85590704]\n",
      " [-58.87809015 143.25666224  38.82542082 -49.78238522  71.6633785 ]\n",
      " [-34.5075633   38.82542082  50.67588562 -70.7838156   35.10218317]\n",
      " [ 39.94651562 -49.78238522 -70.7838156  144.15046681  -3.32467006]\n",
      " [-46.85590704  71.6633785   35.10218317  -3.32467006  96.20303609]]\n",
      "\n",
      "F =  [[0.53158502]\n",
      " [9.7502462 ]\n",
      " [9.82434931]\n",
      " [4.5743369 ]\n",
      " [8.33111006]]\n",
      "\n"
     ]
    }
   ],
   "source": [
    "print('A = ', A, end='\\n\\n')\n",
    "print('F = ', F, end='\\n\\n')"
   ]
  },
  {
   "cell_type": "markdown",
   "id": "70d2c145",
   "metadata": {},
   "source": [
    "## Метод Зейделя"
   ]
  },
  {
   "cell_type": "code",
   "execution_count": 9,
   "id": "0e23022a",
   "metadata": {
    "scrolled": true
   },
   "outputs": [],
   "source": [
    "try:\n",
    "    X, iterations = solve_SLE(A, F, X_init, eps)\n",
    "except ValueError as value_error:\n",
    "    print(value_error)"
   ]
  },
  {
   "cell_type": "code",
   "execution_count": 10,
   "id": "90703fcd",
   "metadata": {},
   "outputs": [
    {
     "data": {
      "text/plain": [
       "585"
      ]
     },
     "execution_count": 10,
     "metadata": {},
     "output_type": "execute_result"
    }
   ],
   "source": [
    "iterations"
   ]
  },
  {
   "cell_type": "code",
   "execution_count": 11,
   "id": "964a8c0f",
   "metadata": {},
   "outputs": [
    {
     "name": "stdout",
     "output_type": "stream",
     "text": [
      "Невязка:  7.973627637051608e-14\n"
     ]
    }
   ],
   "source": [
    "print(\"Невязка: \", residual(A, X, F))"
   ]
  },
  {
   "cell_type": "code",
   "execution_count": 12,
   "id": "f89c8347",
   "metadata": {},
   "outputs": [
    {
     "name": "stdout",
     "output_type": "stream",
     "text": [
      "Число обусловленности:  277.4347070759129\n"
     ]
    }
   ],
   "source": [
    "print(\"Число обусловленности: \", condition_num(A))"
   ]
  },
  {
   "cell_type": "code",
   "execution_count": 13,
   "id": "0759ff1b",
   "metadata": {},
   "outputs": [
    {
     "data": {
      "text/plain": [
       "array([[0.53158502],\n",
       "       [9.7502462 ],\n",
       "       [9.82434931],\n",
       "       [4.5743369 ],\n",
       "       [8.33111006]])"
      ]
     },
     "execution_count": 13,
     "metadata": {},
     "output_type": "execute_result"
    }
   ],
   "source": [
    "np.dot(A,X)"
   ]
  },
  {
   "cell_type": "code",
   "execution_count": 14,
   "id": "355dd011",
   "metadata": {},
   "outputs": [
    {
     "data": {
      "text/plain": [
       "array([[0.53158502],\n",
       "       [9.7502462 ],\n",
       "       [9.82434931],\n",
       "       [4.5743369 ],\n",
       "       [8.33111006]])"
      ]
     },
     "execution_count": 14,
     "metadata": {},
     "output_type": "execute_result"
    }
   ],
   "source": [
    "F"
   ]
  }
 ],
 "metadata": {
  "kernelspec": {
   "display_name": "Python 3",
   "language": "python",
   "name": "python3"
  },
  "language_info": {
   "codemirror_mode": {
    "name": "ipython",
    "version": 3
   },
   "file_extension": ".py",
   "mimetype": "text/x-python",
   "name": "python",
   "nbconvert_exporter": "python",
   "pygments_lexer": "ipython3",
   "version": "3.8.8"
  }
 },
 "nbformat": 4,
 "nbformat_minor": 5
}
