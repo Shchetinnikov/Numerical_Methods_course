{
  "nbformat": 4,
  "nbformat_minor": 0,
  "metadata": {
    "colab": {
      "provenance": []
    },
    "kernelspec": {
      "name": "python3",
      "display_name": "Python 3"
    },
    "language_info": {
      "name": "python"
    }
  },
  "cells": [
    {
      "cell_type": "markdown",
      "source": [
        "# **Разностные методы решения задачи Дирихле для двумерного уравнения Пуассона в прямоугольнике.**\n",
        "## **Метод установления. Схема переменных направлений.**"
      ],
      "metadata": {
        "id": "RM6sib6Y4mGy"
      }
    },
    {
      "cell_type": "markdown",
      "source": [
        "<span style=\"font-style:normal; font-size:14pt;\">\n",
        "\n",
        "Схема переменных направлений - экономичный($O(N_x N_y)$) и неявный метод(устойчивость).\n",
        "\n",
        "$$\n",
        "\\begin{cases}\n",
        "-Lu = f(x,y), \\ \\ \\ \\ 0 < x < 2, \\ \\ \\ \\  0 < y < 1  \\\\\n",
        "\\left. u\\right|_S = \\left.\\mu\\right|_S        \\\\ \n",
        "\\end{cases}\n",
        "$$\n",
        "\n",
        "$$\n",
        "\\begin{equation}\n",
        "u_0 = (3x + y^{2}) \\cos(x + 2y) + x^{2}\n",
        "\\end{equation}\n",
        "$$\n",
        "    \n",
        "> Из аналитического решение получим неоднородности:\n",
        "    \n",
        "$$\n",
        "\\begin{align}\n",
        "    &f(x, y) = -(-2 \\sin(x + 2y) [3 + 4y] + \\cos(x + 2y) [-5y^{2} - 15x + 2] + 2),   \\\\\n",
        "    &u(0, y) = y^{2} \\cos{2y}                  \\\\\n",
        "    &u(2, y) = (6 + y^{2}) \\cos(2 + 2y) + 4    \\\\\n",
        "    &u(x, 0) = 3x \\cos{x} + x^{2}              \\\\\n",
        "    &u(x, 1) = (3x + 1) \\cos(x + 2) + x^2      \\\\\n",
        "\\end{align}\n",
        "$$\n",
        "\n",
        "> Решаем вспомогательную нестационарную задачу:\n",
        "$$\n",
        "\\begin{cases}\n",
        "u_t = u_{xx} + u_{yy} + f(x,y), \\ \\ \\ \\ 0 < x < 2, \\ \\ \\ \\  0 < y < 1  \\\\\n",
        "\\left. u\\right|_S = \\left.\\mu\\right|_S        \\\\ \n",
        "u(x, y, 0) = \\gamma(x, y)                        \\\\ \n",
        "\\end{cases}\n",
        "$$ \n",
        "$\\gamma$ - произвольно. Примем $\\gamma = 0$"
      ],
      "metadata": {
        "id": "WRHOtYXx5KcJ"
      }
    },
    {
      "cell_type": "code",
      "execution_count": null,
      "metadata": {
        "id": "qUTUW9bB4lU1"
      },
      "outputs": [],
      "source": [
        "import numpy as np\n",
        "import matplotlib.pyplot as plt"
      ]
    },
    {
      "cell_type": "code",
      "source": [
        "# Метод прогонки для решения СЛАУ\n",
        "def Thomas_algorithm(a_plot, b_plot, c_plot, f_plot):\n",
        "    n = len(f_plot)\n",
        "    y_plot = []\n",
        "        \n",
        "    A_plot = []\n",
        "    B_plot = []\n",
        "    \n",
        "    A0 = (-1) * c_plot[0] / b_plot[0]\n",
        "    B0 = f_plot[0] / b_plot[0]\n",
        "    \n",
        "    A_plot.append(A0)\n",
        "    B_plot.append(B0)\n",
        "    \n",
        "    for i in range(1, n - 1):\n",
        "        Ai = (-1) * c_plot[i] / (b_plot[i] + a_plot[i] * A_plot[i - 1])\n",
        "        A_plot.append(Ai)\n",
        "    \n",
        "    for i in range(1, n):\n",
        "        Bi = (f_plot[i] - a_plot[i] * B_plot[i - 1]) / (b_plot[i] + a_plot[i] * A_plot[i - 1])\n",
        "        B_plot.append(Bi)\n",
        "    \n",
        "    An = 0   \n",
        "    A_plot.append(An)    \n",
        "    \n",
        "    y_plot.append(B_plot[n - 1])\n",
        "    \n",
        "    for i in range(n - 2, -1, -1):\n",
        "        yi = B_plot[i] + A_plot[i] * y_plot[0]\n",
        "        y_plot.insert(0, yi)\n",
        "    \n",
        "    return y_plot"
      ],
      "metadata": {
        "id": "p56Fb_zCOzsF"
      },
      "execution_count": null,
      "outputs": []
    },
    {
      "cell_type": "markdown",
      "source": [
        "### **Постановка задачи**"
      ],
      "metadata": {
        "id": "Nbug2sAp5TWb"
      }
    },
    {
      "cell_type": "code",
      "source": [
        "# Аналитическое решение\n",
        "def u(x, y):\n",
        "    return (3 * x + y**2) * np.cos(x + 2 * y) + x**2\n",
        "\n",
        "# Неоднородность\n",
        "def f(x, y):\n",
        "    return (-1) * ((-2) * np.sin(x + 2 * y) * (3 + 4 * y) + np.cos(x + 2 * y) * (-5 * y**2 - 15 * x + 2) + 2)\n",
        "\n",
        "# Граничные условия\n",
        "\n",
        "# ГУ для оси x (левый и правый конец)\n",
        "def mu_x(y):\n",
        "    mu_x1 = y**2 * np.cos(2 * y)\n",
        "    mu_x2 = (6 + y**2) * np.cos(2 + 2 * y) + 4\n",
        "    return [mu_x1, mu_x2]\n",
        "\n",
        "# ГУ для оси y (нижняя и верхняя границы)\n",
        "def mu_y(x):\n",
        "    mu_y1 = 3 * x * np.cos(x) + x**2\n",
        "    mu_y2 = (3 * x + 1) * np.cos(x + 2) + x**2\n",
        "    return [mu_y1, mu_y2]\n",
        "\n",
        "# Начальное условие\n",
        "\n",
        "def gamma(x, y):\n",
        "  return 0"
      ],
      "metadata": {
        "id": "E-VGWw4-5G__"
      },
      "execution_count": null,
      "outputs": []
    },
    {
      "cell_type": "code",
      "source": [
        "# Область значений и шаг по x\n",
        "left  = 0\n",
        "right = 2\n",
        "hx    = 0.01\n",
        "\n",
        "# Область значений и шаг по y\n",
        "bottom = 0\n",
        "top    = 1\n",
        "hy     = 0.01\n",
        "\n",
        "# Шаг по t\n",
        "tau = 0.05\n",
        "\n",
        "# Погрешность\n",
        "eps = 1.0e-5"
      ],
      "metadata": {
        "id": "m-lsd1-r8FLD"
      },
      "execution_count": null,
      "outputs": []
    },
    {
      "cell_type": "code",
      "source": [
        "# Координатная сетка\n",
        "x_plot = np.linspace(left, right, round((right - left) / hx) + 1)\n",
        "y_plot = np.linspace(bottom, top, round((top - bottom) / hy) + 1)\n",
        "\n",
        "print(len(x_plot), len(y_plot))"
      ],
      "metadata": {
        "colab": {
          "base_uri": "https://localhost:8080/"
        },
        "id": "q9ZHvAb_8s99",
        "outputId": "3f7701a7-5756-483c-db97-67506bbad50a"
      },
      "execution_count": null,
      "outputs": [
        {
          "output_type": "stream",
          "name": "stdout",
          "text": [
            "201 101\n"
          ]
        }
      ]
    },
    {
      "cell_type": "markdown",
      "source": [
        "### **Метод установления. Схема переменных направлений.**"
      ],
      "metadata": {
        "id": "lRXAALZH9-wl"
      }
    },
    {
      "cell_type": "code",
      "source": [
        "# Вычисление констант СЛАУ\n",
        "def SLE_constants(x_plot, y_plot, index, tau,\n",
        "                  mu_x, mu_y, gamma, f, \n",
        "                  u_prev, axis=0):\n",
        "  Nx = len(x_plot)\n",
        "  Ny = len(y_plot)\n",
        "  hx = x_plot[1] - x_plot[0]\n",
        "  hy = y_plot[1] - y_plot[0]\n",
        "        \n",
        "  if axis == 0: n = len(x_plot)\n",
        "  else:         n = len(y_plot)\n",
        "\n",
        "  a_plot = np.zeros(n, dtype=float)\n",
        "  b_plot = np.zeros(n, dtype=float)\n",
        "  c_plot = np.zeros(n, dtype=float)\n",
        "  f_plot = np.zeros(n, dtype=float)\n",
        "    \n",
        "  b_plot[0]     = 1\n",
        "  b_plot[n - 1] = 1\n",
        "\n",
        "  # Неизвестные вдоль x\n",
        "  if axis == 0:\n",
        "    f_plot[0]     = mu_x(y_plot[index])[0]\n",
        "    f_plot[n - 1] = mu_x(y_plot[index])[1]\n",
        "    \n",
        "    for i in range(1, Nx - 1):\n",
        "      a_plot[i] = tau / (2 * hx**2)\n",
        "      b_plot[i] = (-1) * (tau / hx**2 + 1)\n",
        "      c_plot[i] = tau / (2 * hx**2)\n",
        "      f_plot[i] = (-1) * tau * u_prev[index - 1, i] / (2 * hy**2) + \\\n",
        "                  (tau / hy**2 - 1) * u_prev[index, i] + \\\n",
        "                  (-1) * tau * u_prev[index + 1, i] / (2 * hy**2) - \\\n",
        "                  tau * f(x_plot[i], y_plot[index]) / 2\n",
        "                    \n",
        "  else: # Неизвестные вдоль y\n",
        "    f_plot[0]     = mu_y(x_plot[index])[0]\n",
        "    f_plot[n - 1] = mu_y(x_plot[index])[1]\n",
        "    \n",
        "    for i in range(1, Ny - 1):\n",
        "      a_plot[i] = tau / (2 * hy**2)\n",
        "      b_plot[i] = (-1) * (tau / hy**2 + 1)\n",
        "      c_plot[i] = tau / (2 * hy**2)\n",
        "      f_plot[i] = (-1) * tau * u_prev[i, index - 1] / (2 * hx**2) + \\\n",
        "                  (tau / hx**2 - 1) * u_prev[i, index] + \\\n",
        "                  (-1) * tau * u_prev[i, index + 1] / (2 * hx**2) - \\\n",
        "                  tau * f(x_plot[index], y_plot[i]) / 2\n",
        "\n",
        "  return a_plot, b_plot, c_plot, f_plot"
      ],
      "metadata": {
        "id": "nN6bgEGDSFuI"
      },
      "execution_count": null,
      "outputs": []
    },
    {
      "cell_type": "code",
      "source": [
        "def to_stationary_method(x_plot, y_plot, tau,\n",
        "                         mu_x, mu_y, gamma, f, eps):\n",
        "  # t = 0\n",
        "  u_prev = np.array([gamma(x_i, y_j) for y_j in y_plot for x_i in x_plot])\n",
        "  u_prev = u_prev.reshape(len(y_plot), len(x_plot))\n",
        "  \n",
        "  # t_k\n",
        "  while True:\n",
        "    u_pre = np.zeros((len(y_plot), len(x_plot)))  # t_{k + 1/2}\n",
        "    u_cur = np.zeros((len(y_plot), len(x_plot)))  # t_{k + 1}\n",
        "\n",
        "    # Прогонки по x\n",
        "    u_pre[0] = [mu_y(x)[0] for x in x_plot]\n",
        "    for ind_y in range(1, len(y_plot) - 1):\n",
        "      a_plot, b_plot, c_plot, f_plot = SLE_constants(x_plot, y_plot, ind_y, tau, \n",
        "                                                     mu_x, mu_y, gamma, f,\n",
        "                                                     u_prev, axis=0)\n",
        "      u_pre_i = Thomas_algorithm(a_plot, b_plot, c_plot, f_plot)\n",
        "      u_pre[ind_y] = u_pre_i\n",
        "    u_pre[-1] = [mu_y(x)[1] for x in x_plot]\n",
        "\n",
        "    # Прогонки по y\n",
        "    u_cur[:, 0] = [mu_x(y)[0] for y in y_plot]\n",
        "    for ind_x in range(1, len(x_plot) - 1):\n",
        "      a_plot, b_plot, c_plot, f_plot = SLE_constants(x_plot, y_plot, ind_x, tau, \n",
        "                                                     mu_x, mu_y, gamma, f,\n",
        "                                                     u_pre, axis=1)\n",
        "      u_cur_i = Thomas_algorithm(a_plot, b_plot, c_plot, f_plot)\n",
        "      u_cur[:, ind_x] = u_cur_i\n",
        "    u_cur[:, -1] = [mu_x(y)[1] for y in y_plot]\n",
        "\n",
        "    if np.max(np.abs(u_cur - u_prev)) < eps:\n",
        "      return u_cur\n",
        "    else:\n",
        "      print(np.max(np.abs(u_cur - u_prev)))\n",
        "      u_prev = u_cur"
      ],
      "metadata": {
        "id": "L7naGfVnBcBD"
      },
      "execution_count": null,
      "outputs": []
    },
    {
      "cell_type": "code",
      "source": [
        "# Аналитическое решение\n",
        "u0_plot = np.array([u(x_i, y_j) for y_j in y_plot for x_i in x_plot])\n",
        "u0_plot = u0_plot.reshape(len(y_plot), len(x_plot))"
      ],
      "metadata": {
        "id": "rZOKrQR99Ds7"
      },
      "execution_count": null,
      "outputs": []
    },
    {
      "cell_type": "code",
      "source": [
        "# Численное решение\n",
        "u_plot = to_stationary_method(x_plot, y_plot, tau,\n",
        "                              mu_x, mu_y, gamma, f, eps)"
      ],
      "metadata": {
        "id": "HIxvojJQ-FZz",
        "colab": {
          "base_uri": "https://localhost:8080/"
        },
        "outputId": "3e6abdd3-c2d6-478e-8810-3755685ead48"
      },
      "execution_count": null,
      "outputs": [
        {
          "output_type": "stream",
          "name": "stdout",
          "text": [
            "3.5225723730314353\n",
            "1.7605969015367708\n",
            "0.9613251019316416\n",
            "0.5699613251997147\n",
            "0.3342666408632815\n",
            "0.19626108212345228\n",
            "0.11703205867265698\n",
            "0.06840885735703406\n",
            "0.04116328600170238\n",
            "0.024020851928952425\n",
            "0.016327181609550934\n",
            "0.013260807167855493\n",
            "0.010713907116274068\n",
            "0.008763441374105785\n",
            "0.00716339773557495\n",
            "0.005895367686912678\n",
            "0.004857132549780374\n",
            "0.004018345623649555\n",
            "0.0033298370617402817\n",
            "0.002768692694989916\n",
            "0.002334695181289703\n",
            "0.001972359632630205\n",
            "0.0016686795351485983\n",
            "0.001413838576270976\n",
            "0.0011994401843513636\n",
            "0.0010187983098113307\n",
            "0.0008663180806030013\n",
            "0.0007374248281730722\n",
            "0.0006283120463734804\n",
            "0.0005358253721681194\n",
            "0.00045733666935809936\n",
            "0.00039065263698612185\n",
            "0.0003339385961353969\n",
            "0.00028565724849149987\n",
            "0.00024451667473757155\n",
            "0.00020943149002849992\n",
            "0.00017948554698721253\n",
            "0.00015390752061561486\n",
            "0.00013204392289800637\n",
            "0.00011334344388824746\n",
            "9.733762574626326e-05\n",
            "8.363040533732047e-05\n",
            "7.723183622987406e-05\n",
            "7.148392179856522e-05\n",
            "6.979046578425852e-05\n",
            "6.503509896860216e-05\n",
            "6.330573655199956e-05\n",
            "5.9331110929594644e-05\n",
            "5.762154500299488e-05\n",
            "5.4266656726476015e-05\n",
            "5.261242827447887e-05\n",
            "4.975401682960623e-05\n",
            "4.8176643711705935e-05\n",
            "4.5719658260612306e-05\n",
            "4.423099092987215e-05\n",
            "4.2101589387222305e-05\n",
            "4.070689711999087e-05\n",
            "3.884727682668121e-05\n",
            "3.7547428631379276e-05\n",
            "3.5911989433534686e-05\n",
            "3.4704988753464505e-05\n",
            "3.325747055371586e-05\n",
            "3.2139528860497535e-05\n",
            "3.085086529908132e-05\n",
            "2.981714701677518e-05\n",
            "2.866384801292199e-05\n",
            "2.7708981550578216e-05\n",
            "2.667190810390352e-05\n",
            "2.579033094862737e-05\n",
            "2.485376230509928e-05\n",
            "2.4039948855580917e-05\n",
            "2.319086838742379e-05\n",
            "2.2439475442448398e-05\n",
            "2.1667021006033238e-05\n",
            "2.0972975817379336e-05\n",
            "2.02680142602496e-05\n",
            "1.962656295440013e-05\n",
            "1.8981358874015086e-05\n",
            "1.8388087906773265e-05\n",
            "1.7796044110784948e-05\n",
            "1.7246883797339407e-05\n",
            "1.670233678585653e-05\n",
            "1.619355313331461e-05\n",
            "1.5691610843582282e-05\n",
            "1.5219790217013696e-05\n",
            "1.4756202493693138e-05\n",
            "1.4318232120391627e-05\n",
            "1.3889286599733097e-05\n",
            "1.348233304976354e-05\n",
            "1.3084770936977463e-05\n",
            "1.2706257962236123e-05\n",
            "1.2337205443913035e-05\n",
            "1.1984792115393716e-05\n",
            "1.1641704105391781e-05\n",
            "1.1313263846846056e-05\n",
            "1.099387756853254e-05\n",
            "1.0687478381843363e-05\n",
            "1.038977482981096e-05\n",
            "1.0103660931459757e-05\n"
          ]
        }
      ]
    },
    {
      "cell_type": "code",
      "source": [
        "plt.imshow(u_plot, extent = [left, right, bottom, top])\n",
        "plt.colorbar();"
      ],
      "metadata": {
        "colab": {
          "base_uri": "https://localhost:8080/",
          "height": 248
        },
        "id": "xVZa_jAcPgJ7",
        "outputId": "e663b63b-54dc-46ea-d6e1-b42e62b1d20b"
      },
      "execution_count": null,
      "outputs": [
        {
          "output_type": "display_data",
          "data": {
            "text/plain": [
              "<Figure size 432x288 with 2 Axes>"
            ],
            "image/png": "[encoded data removed]"
          },
          "metadata": {
            "needs_background": "light"
          }
        }
      ]
    },
    {
      "cell_type": "code",
      "source": [
        "plt.imshow(np.abs(u_plot - u0_plot), extent = [left, right, bottom, top])\n",
        "plt.colorbar();"
      ],
      "metadata": {
        "colab": {
          "base_uri": "https://localhost:8080/",
          "height": 254
        },
        "id": "kJ-b3wbd-HEq",
        "outputId": "e3cb638b-f5f0-4e37-be16-4d8ffd293f6c"
      },
      "execution_count": null,
      "outputs": [
        {
          "output_type": "display_data",
          "data": {
            "text/plain": [
              "<Figure size 432x288 with 2 Axes>"
            ],
            "image/png": "[encoded data removed]"
          },
          "metadata": {
            "needs_background": "light"
          }
        }
      ]
    },
    {
      "cell_type": "code",
      "source": [
        "error = np.max(np.abs(u_plot - u0_plot))\n",
        "error"
      ],
      "metadata": {
        "colab": {
          "base_uri": "https://localhost:8080/"
        },
        "id": "_6fRB5vx-I1y",
        "outputId": "a58b3844-09bb-43cb-e53d-089e3232beb8"
      },
      "execution_count": null,
      "outputs": [
        {
          "output_type": "execute_result",
          "data": {
            "text/plain": [
              "0.0005715560518368967"
            ]
          },
          "metadata": {},
          "execution_count": 105
        }
      ]
    },
    {
      "cell_type": "markdown",
      "source": [
        "### Дополнительная задача\n",
        "В прямоугольник вписан эллипс.\n",
        "На границе (вне эллипса) sin($\\phi$), $\\phi$ = atan(x, y)"
      ],
      "metadata": {
        "id": "T3-CFwn06MAz"
      }
    },
    {
      "cell_type": "code",
      "source": [
        "# Вычисление констант СЛАУ\n",
        "def SLE_constants_mod(x_plot, y_plot, index, tau,\n",
        "                      mu, gamma, f, \n",
        "                      u_prev, axis=0):\n",
        "  Nx = len(x_plot)\n",
        "  Ny = len(y_plot)\n",
        "  hx = x_plot[1] - x_plot[0]\n",
        "  hy = y_plot[1] - y_plot[0]\n",
        "\n",
        "  left   = x_plot[0]\n",
        "  right  = x_plot[-1]\n",
        "  bottom = y_plot[0]\n",
        "  top    = y_plot[-1]\n",
        "\n",
        "  a = (right - left) / 2\n",
        "  b = (top - bottom) / 2\n",
        "\n",
        "  if axis == 0: n = len(x_plot)\n",
        "  else:         n = len(y_plot)\n",
        "\n",
        "  a_plot = np.zeros(n, dtype=float)\n",
        "  b_plot = np.zeros(n, dtype=float)\n",
        "  c_plot = np.zeros(n, dtype=float)\n",
        "  f_plot = np.zeros(n, dtype=float)\n",
        "  \n",
        "  # Неизвестные вдоль x\n",
        "  if axis == 0:\n",
        "    y_j = y_plot[index]\n",
        "    internal_p = np.where((x_plot)**2 / a**2 + (y_j)**2 / b**2 < 1, np.NaN, x_plot)\n",
        "    indexes = np.argwhere(np.isnan(internal_p))\n",
        "\n",
        "    count = indexes[0][0]\n",
        "    for i in range(count):\n",
        "      b_plot[i]         = 1\n",
        "      b_plot[n - i - 1] = 1\n",
        "      \n",
        "      f_plot[i]         = mu(x_plot[i], y_j, left, right, bottom, top)\n",
        "      f_plot[n - i - 1] = mu(x_plot[n - i - 1], y_j, left, right, bottom, top)\n",
        "    \n",
        "    for i in range(count, Nx - count):\n",
        "      a_plot[i] = tau / (2 * hx**2)\n",
        "      b_plot[i] = (-1) * (tau / hx**2 + 1)\n",
        "      c_plot[i] = tau / (2 * hx**2)\n",
        "      f_plot[i] = (-1) * tau * u_prev[index - 1, i] / (2 * hy**2) + \\\n",
        "                  (tau / hy**2 - 1) * u_prev[index, i] + \\\n",
        "                  (-1) * tau * u_prev[index + 1, i] / (2 * hy**2) - \\\n",
        "                  tau * f(x_plot[i], y_plot[index]) / 2\n",
        "                    \n",
        "  else: # Неизвестные вдоль y\n",
        "    x_i = x_plot[index]\n",
        "    internal_p = np.where((x_i)**2 / a**2 + (y_plot)**2 / b**2 < 1, np.NaN, y_plot)\n",
        "    indexes = np.argwhere(np.isnan(internal_p))\n",
        "\n",
        "    count = indexes[0][0]\n",
        "    for i in range(count):\n",
        "      b_plot[i]         = 1\n",
        "      b_plot[n - i - 1] = 1\n",
        "      \n",
        "      f_plot[i]         = mu(x_i, y_plot[i], left, right, bottom, top)\n",
        "      f_plot[n - i - 1] = mu(x_i, y_plot[n - i - 1], left, right, bottom, top)\n",
        "    \n",
        "    for i in range(count, Ny - count):\n",
        "      a_plot[i] = tau / (2 * hy**2)\n",
        "      b_plot[i] = (-1) * (tau / hy**2 + 1)\n",
        "      c_plot[i] = tau / (2 * hy**2)\n",
        "      f_plot[i] = (-1) * tau * u_prev[i, index - 1] / (2 * hx**2) + \\\n",
        "                  (tau / hx**2 - 1) * u_prev[i, index] + \\\n",
        "                  (-1) * tau * u_prev[i, index + 1] / (2 * hx**2) - \\\n",
        "                  tau * f(x_plot[index], y_plot[i]) / 2\n",
        "\n",
        "  return a_plot, b_plot, c_plot, f_plot"
      ],
      "metadata": {
        "id": "7Mxpwvl5y8O_"
      },
      "execution_count": null,
      "outputs": []
    },
    {
      "cell_type": "code",
      "source": [
        "def to_stationary_method_mod(x_plot, y_plot, tau,\n",
        "                             mu, gamma, f, eps):\n",
        "  left   = x_plot[0]\n",
        "  right  = x_plot[-1]\n",
        "  bottom = y_plot[0]\n",
        "  top    = y_plot[-1]\n",
        "\n",
        "  # t = 0\n",
        "  u_prev = np.array([gamma(x_i, y_j) for y_j in y_plot for x_i in x_plot])\n",
        "  u_prev = u_prev.reshape(len(y_plot), len(x_plot))\n",
        "  \n",
        "  # t_k\n",
        "  while True:\n",
        "    u_pre = np.zeros((len(y_plot), len(x_plot)))  # t_{k + 1/2}\n",
        "    u_cur = np.zeros((len(y_plot), len(x_plot)))  # t_{k + 1}\n",
        "\n",
        "    # Прогонки по x\n",
        "    u_pre[0] = [mu(x, y_plot[0], left, right, bottom, top) for x in x_plot]\n",
        "    for ind_y in range(1, len(y_plot) - 1):\n",
        "      a_plot, b_plot, c_plot, f_plot = SLE_constants_mod(x_plot, y_plot, ind_y, tau, \n",
        "                                                     mu, gamma, f,\n",
        "                                                     u_prev, axis=0)\n",
        "      u_pre_i = Thomas_algorithm(a_plot, b_plot, c_plot, f_plot)\n",
        "      u_pre[ind_y] = u_pre_i\n",
        "    u_pre[-1] = [mu(x, y_plot[-1], left, right, bottom, top) for x in x_plot]\n",
        "\n",
        "    # Прогонки по y\n",
        "    u_cur[:, 0] = [mu(x_plot[0], y, left, right, bottom, top) for y in y_plot]\n",
        "    for ind_x in range(1, len(x_plot) - 1):\n",
        "      a_plot, b_plot, c_plot, f_plot = SLE_constants_mod(x_plot, y_plot, ind_x, tau, \n",
        "                                                     mu, gamma, f,\n",
        "                                                     u_pre, axis=1)\n",
        "      u_cur_i = Thomas_algorithm(a_plot, b_plot, c_plot, f_plot)\n",
        "      u_cur[:, ind_x] = u_cur_i\n",
        "    u_cur[:, -1] = [mu(x_plot[-1], y, left, right, bottom, top) for y in y_plot]\n",
        "\n",
        "    if np.max(np.abs(u_cur - u_prev)) < eps:\n",
        "      return u_cur\n",
        "    else:\n",
        "      print(np.max(np.abs(u_cur - u_prev)))\n",
        "      u_prev = u_cur"
      ],
      "metadata": {
        "id": "RyjsdKOtzJ92"
      },
      "execution_count": null,
      "outputs": []
    },
    {
      "cell_type": "code",
      "source": [
        "# Неоднородность\n",
        "def f(x, y):\n",
        "    return 0\n",
        "\n",
        "# Граничные условия\n",
        "\n",
        "def mu(x, y, left, right, bottom, top):\n",
        "  # Полуоси эллипса\n",
        "  # a = (right - left) / 2\n",
        "  # b = (top - bottom) / 2\n",
        "  if (x)**2 / a**2 + (y)**2 / b**2 >= 1:\n",
        "    phi = np.arctan2(y, x)\n",
        "    return np.sin(2*phi)\n",
        "  else:\n",
        "    raise ValueError(\"Переданные координаты не соответствуют области на границе/вне эллипса\")\n",
        "\n",
        "# Начальное условие\n",
        "\n",
        "def gamma(x, y):\n",
        "  return 0"
      ],
      "metadata": {
        "id": "p7_Buosl2Q9H"
      },
      "execution_count": null,
      "outputs": []
    },
    {
      "cell_type": "code",
      "source": [
        "# Область значений и шаг по x\n",
        "left  = -1\n",
        "right = 1\n",
        "hx    = 0.01\n",
        "\n",
        "# Область значений и шаг по y\n",
        "bottom = -0.5\n",
        "top    = 0.5\n",
        "hy     = 0.01\n",
        "\n",
        "# Шаг по t\n",
        "tau = 0.05\n",
        "\n",
        "# Погрешность\n",
        "eps = 1.0e-5"
      ],
      "metadata": {
        "id": "PJelA4HCqJEN"
      },
      "execution_count": null,
      "outputs": []
    },
    {
      "cell_type": "code",
      "source": [
        "# Координатная сетка\n",
        "x_plot = np.linspace(left, right, round((right - left) / hx) + 1)\n",
        "y_plot = np.linspace(bottom, top, round((top - bottom) / hy) + 1)\n",
        "\n",
        "Nx = len(x_plot)\n",
        "Ny = len(y_plot)\n",
        "\n",
        "print(len(x_plot), len(y_plot))"
      ],
      "metadata": {
        "colab": {
          "base_uri": "https://localhost:8080/"
        },
        "id": "GK54Ca1FqVdz",
        "outputId": "f2288296-7fd7-410b-a878-af711e4afe61"
      },
      "execution_count": null,
      "outputs": [
        {
          "output_type": "stream",
          "name": "stdout",
          "text": [
            "201 101\n"
          ]
        }
      ]
    },
    {
      "cell_type": "code",
      "source": [
        "# Численное решение\n",
        "u_plot = to_stationary_method_mod(x_plot, y_plot, tau,\n",
        "                                 mu, gamma, f, eps)"
      ],
      "metadata": {
        "colab": {
          "base_uri": "https://localhost:8080/"
        },
        "id": "Sk92BCzer3BJ",
        "outputId": "ec7c7343-34f1-4136-e0e7-355b5b1a49a1"
      },
      "execution_count": null,
      "outputs": [
        {
          "output_type": "stream",
          "name": "stdout",
          "text": [
            "1.0\n",
            "0.17009028224375816\n",
            "0.011328230050977717\n",
            "0.0031097634739918334\n",
            "0.001709691982062722\n",
            "0.0012121013815917792\n",
            "0.0008725717212242634\n",
            "0.0006609567347772849\n",
            "0.0005052000683544999\n",
            "0.00039193507458540333\n",
            "0.00035325705983113576\n",
            "0.00031993922188788826\n",
            "0.0002907130550440229\n",
            "0.00026909534252850253\n",
            "0.0002518165028226882\n",
            "0.00023599688299957844\n",
            "0.00022150632470785414\n",
            "0.00020822342026105556\n",
            "0.00019603313384108922\n",
            "0.00018482950898979222\n",
            "0.0001745158053065854\n",
            "0.00016500451813517003\n",
            "0.00015656728991730873\n",
            "0.0001505319942488592\n",
            "0.00014483875520521217\n",
            "0.00013946297487299475\n",
            "0.00013438167942847468\n",
            "0.00012957356745058046\n",
            "0.00012501899057204557\n",
            "0.00012069988569896051\n",
            "0.00011659968326493964\n",
            "0.00011270320149747715\n",
            "0.00010899653696350153\n",
            "0.00010546695590563093\n",
            "0.00010210279029554403\n",
            "9.889334014934192e-05\n",
            "9.582878329339461e-05\n",
            "9.290009273166255e-05\n",
            "9.009896160827591e-05\n",
            "8.741773536491415e-05\n",
            "8.484935067154531e-05\n",
            "8.238728052267774e-05\n",
            "8.002548501284679e-05\n",
            "7.775836715662177e-05\n",
            "7.558073329383408e-05\n",
            "7.34877575797599e-05\n",
            "7.14749500727585e-05\n",
            "6.953812809240567e-05\n",
            "6.767339042035303e-05\n",
            "6.587709406868925e-05\n",
            "6.414583331082468e-05\n",
            "6.247642072543247e-05\n",
            "6.086587004361377e-05\n",
            "5.9311380588900064e-05\n",
            "5.781032315310686e-05\n",
            "5.636022713784161e-05\n",
            "5.495876884642481e-05\n",
            "5.363456785789644e-05\n",
            "5.259770293997157e-05\n",
            "5.158879782496406e-05\n",
            "5.0606802496577785e-05\n",
            "4.965071977547364e-05\n",
            "4.871960194863245e-05\n",
            "4.781254768770893e-05\n",
            "4.6928699172221755e-05\n",
            "4.606723943667568e-05\n",
            "4.522738991086239e-05\n",
            "4.440840813846325e-05\n",
            "4.3609585654968974e-05\n",
            "4.283024601603458e-05\n",
            "4.206974296461219e-05\n",
            "4.132745872797994e-05\n",
            "4.060280241757752e-05\n",
            "3.9895208550300154e-05\n",
            "3.92041356632733e-05\n",
            "3.852906501411457e-05\n",
            "3.7869499377896076e-05\n",
            "3.7224961907944554e-05\n",
            "3.6594995077465775e-05\n",
            "3.597915968811538e-05\n",
            "3.537703393563518e-05\n",
            "3.4788212534331286e-05\n",
            "3.421230589961688e-05\n",
            "3.364893937352065e-05\n",
            "3.309775249815683e-05\n",
            "3.255839833793406e-05\n",
            "3.203054283129614e-05\n",
            "3.151386418820401e-05\n",
            "3.100805232025827e-05\n",
            "3.0512808296911942e-05\n",
            "3.002784384320556e-05\n",
            "2.9552880856043018e-05\n",
            "2.9087650952441813e-05\n",
            "2.8631895039543664e-05\n",
            "2.818536290905005e-05\n",
            "2.7747812851752762e-05\n",
            "2.731901129537917e-05\n",
            "2.6898732460756136e-05\n",
            "2.6486758029187207e-05\n",
            "2.608287683913968e-05\n",
            "2.568688458692847e-05\n",
            "2.5298583549826503e-05\n",
            "2.4917782317834813e-05\n",
            "2.4544295542772154e-05\n",
            "2.4177943697911708e-05\n",
            "2.381855284727674e-05\n",
            "2.346595443070143e-05\n",
            "2.3119985055108927e-05\n",
            "2.2780486295448377e-05\n",
            "2.244730450939869e-05\n",
            "2.2120290656180153e-05\n",
            "2.179930012136122e-05\n",
            "2.1484192561760374e-05\n",
            "2.117483173991186e-05\n",
            "2.087108538084692e-05\n",
            "2.057282502743174e-05\n",
            "2.0279925902810803e-05\n",
            "1.9992266781954093e-05\n",
            "1.970972986242714e-05\n",
            "1.9432200651925413e-05\n",
            "1.9159567848592296e-05\n",
            "1.889172322944166e-05\n",
            "1.8628561552769263e-05\n",
            "1.8369980448240675e-05\n",
            "1.8115880328295475e-05\n",
            "1.7866164290225583e-05\n",
            "1.762073802880071e-05\n",
            "1.737950975111424e-05\n",
            "1.714239009342755e-05\n",
            "1.690929204534175e-05\n",
            "1.668013086886244e-05\n",
            "1.6454824030565085e-05\n",
            "1.6233291131428906e-05\n",
            "1.601545383378422e-05\n",
            "1.580123580369186e-05\n",
            "1.5590562643774675e-05\n",
            "1.538336183770639e-05\n",
            "1.5179562688483195e-05\n",
            "1.497909626213545e-05\n",
            "1.4781895339432971e-05\n",
            "1.4587894359596731e-05\n",
            "1.43970293722262e-05\n",
            "1.4209237989670775e-05\n",
            "1.4024459339179174e-05\n",
            "1.3842634021155042e-05\n",
            "1.3663704061972481e-05\n",
            "1.348761287711664e-05\n",
            "1.3314305228551149e-05\n",
            "1.3143727184417031e-05\n",
            "1.2975826086503162e-05\n",
            "1.2810550507502683e-05\n",
            "1.2647850223590495e-05\n",
            "1.2487676174122164e-05\n",
            "1.2329980433767318e-05\n",
            "1.2174716178647849e-05\n",
            "1.2021837655584733e-05\n",
            "1.1871300154786546e-05\n",
            "1.1723059978652195e-05\n",
            "1.1577074416346811e-05\n",
            "1.1433301716712307e-05\n",
            "1.1291701061622028e-05\n",
            "1.1152232542444018e-05\n",
            "1.1014857133173628e-05\n",
            "1.0879536669894385e-05\n",
            "1.0746233827685359e-05\n",
            "1.061491209619625e-05\n",
            "1.0485535760551556e-05\n",
            "1.0358069881588605e-05\n",
            "1.0232480273209e-05\n",
            "1.0108733482949717e-05\n"
          ]
        }
      ]
    },
    {
      "cell_type": "code",
      "source": [
        "plt.imshow(u_plot, extent=[left, right, bottom, top], cmap='jet', interpolation='bilinear')\n",
        "plt.colorbar()\n",
        "plt.show()"
      ],
      "metadata": {
        "colab": {
          "base_uri": "https://localhost:8080/",
          "height": 258
        },
        "id": "zi3LNuIwZJXx",
        "outputId": "55839c8d-a76e-465d-afc7-264c82396590"
      },
      "execution_count": null,
      "outputs": [
        {
          "output_type": "display_data",
          "data": {
            "text/plain": [
              "<Figure size 432x288 with 2 Axes>"
            ],
            "image/png": "[encoded data removed]"
          },
          "metadata": {
            "needs_background": "light"
          }
        }
      ]
    },
    {
      "cell_type": "code",
      "source": [
        "a = (right - left) / 2\n",
        "b = (top - bottom) / 2\n",
        "\n",
        "for i in range(Nx):\n",
        "    for j in range(Ny):\n",
        "        if (x_plot[i])**2 / a**2 + (y_plot[j])**2 / b**2 > 1:\n",
        "            u_plot[j][i] = np.nan"
      ],
      "metadata": {
        "id": "BmvzinmNLXVB"
      },
      "execution_count": null,
      "outputs": []
    },
    {
      "cell_type": "code",
      "source": [
        "plt.imshow(u_plot, extent=[left, right, bottom, top], cmap='jet', interpolation='bilinear')\n",
        "plt.colorbar()\n",
        "plt.show()"
      ],
      "metadata": {
        "colab": {
          "base_uri": "https://localhost:8080/",
          "height": 248
        },
        "id": "25oM_su3LYRX",
        "outputId": "04362f2c-5564-4dd7-ac77-e5428379b307"
      },
      "execution_count": null,
      "outputs": [
        {
          "output_type": "display_data",
          "data": {
            "text/plain": [
              "<Figure size 432x288 with 2 Axes>"
            ],
            "image/png": "[encoded data removed]"
          },
          "metadata": {
            "needs_background": "light"
          }
        }
      ]
    },
    {
      "cell_type": "code",
      "source": [],
      "metadata": {
        "id": "r1JnC96aLjQp"
      },
      "execution_count": null,
      "outputs": []
    }
  ]
}