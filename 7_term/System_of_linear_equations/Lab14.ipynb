{
 "cells": [
  {
   "cell_type": "markdown",
   "id": "d70766a4",
   "metadata": {},
   "source": [
    "# Итерационные методы решения СЛАУ\n",
    "## Метод наименьшей погрешности\n",
    "## Вариант 18"
   ]
  },
  {
   "cell_type": "markdown",
   "id": "004b377e",
   "metadata": {},
   "source": [
    "<span style=\"font-style:normal; font-size:14pt;\">\n",
    "$$\n",
    "\\begin{cases}\n",
    "u_{xx} + u_{yy} = f(x,y), \\ \\ \\ \\ 0 < x < 2, \\ \\ \\ \\  0 < y < 1  \\\\\n",
    "\\left. u\\right|_S = \\left.\\mu\\right|_S        \\\\ \n",
    "\\end{cases}\n",
    "$$\n",
    "\n",
    "$$\n",
    "\\begin{equation}\n",
    "u_0 = (3x + y^{2}) \\cos(x + 2y) + x^{2}\n",
    "\\end{equation}\n",
    "$$\n",
    "    \n",
    "> Из аналитического решение получим неоднородности:\n",
    "    \n",
    "$$\n",
    "\\begin{equation}\n",
    "    f(x, y) = -2(3 + 4y) \\sin(x + 2y) - (3y^{2} + 9x - 2) \\cos(x + 2y) + 2,   \\\\\n",
    "    u(0, y) = y^{2} \\cos{2y}                  \\\\\n",
    "    u(2, y) = (6 + y^{2}) \\cos(2 + 2y) + 4    \\\\\n",
    "    u(x, 0) = 3x \\cos{x} + x^{2}              \\\\\n",
    "    u(x, 1) = (3x + 1) \\cos(x + 2) + x^2      \\\\\n",
    "\\end{equation}\n",
    "$$"
   ]
  },
  {
   "cell_type": "code",
   "execution_count": 1,
   "id": "2ef3a987",
   "metadata": {},
   "outputs": [],
   "source": [
    "import numpy as np\n",
    "from matplotlib import pyplot as plt"
   ]
  },
  {
   "cell_type": "markdown",
   "id": "375589ca",
   "metadata": {},
   "source": [
    "## Исходные данные"
   ]
  },
  {
   "cell_type": "code",
   "execution_count": null,
   "id": "89ae1779",
   "metadata": {},
   "outputs": [],
   "source": [
    "# Неоднородность\n",
    "def f(x, y):\n",
    "    return (-2) * (3 + 4 * y) * np.sin(x + 2 * y) - (3 * y**2 + 9 * x - 2) * np.cos(x + 2 * y) + 2"
   ]
  },
  {
   "cell_type": "code",
   "execution_count": null,
   "id": "118b93b1",
   "metadata": {},
   "outputs": [],
   "source": [
    "# Граничные условия\n",
    "\n",
    "# ГУ для оси x (левый и правый конец)\n",
    "def mu_x(y):\n",
    "    mu_x1 = y**2 * np.cos(2 * y)\n",
    "    mu_x2 = (6 + y**2) * np.cos(2 + 2 * y) + 4\n",
    "    return [mu_x1, mu_x2]\n",
    "\n",
    "# ГУ для оси y (левый и правый конец)\n",
    "def mu_y(x):\n",
    "    mu_y1 = 3 * x * np.cos(x) + x**2\n",
    "    mu_y2 = (3 * x + 1) * np.cos(x + 2) + x**2\n",
    "    return [mu_y1, mu_y2]"
   ]
  },
  {
   "cell_type": "markdown",
   "id": "ed95e4ca",
   "metadata": {},
   "source": []
  },
  {
   "cell_type": "code",
   "execution_count": null,
   "id": "918e540f",
   "metadata": {},
   "outputs": [],
   "source": []
  }
 ],
 "metadata": {
  "kernelspec": {
   "display_name": "Python 3",
   "language": "python",
   "name": "python3"
  },
  "language_info": {
   "codemirror_mode": {
    "name": "ipython",
    "version": 3
   },
   "file_extension": ".py",
   "mimetype": "text/x-python",
   "name": "python",
   "nbconvert_exporter": "python",
   "pygments_lexer": "ipython3",
   "version": "3.8.8"
  }
 },
 "nbformat": 4,
 "nbformat_minor": 5
}
