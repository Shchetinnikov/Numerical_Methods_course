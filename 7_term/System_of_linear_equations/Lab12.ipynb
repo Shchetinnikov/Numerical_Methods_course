{
 "cells": [
  {
   "cell_type": "markdown",
   "id": "5beb91ae",
   "metadata": {},
   "source": [
    "# Прямые методы решение СЛАУ\n",
    "## Метод Гаусса и метод Гаусса с выбором главного элемента"
   ]
  },
  {
   "cell_type": "code",
   "execution_count": 1,
   "id": "a51bd7d6",
   "metadata": {},
   "outputs": [],
   "source": [
    "import random\n",
    "import numpy as np\n",
    "from matplotlib import pyplot as plt"
   ]
  },
  {
   "cell_type": "code",
   "execution_count": 2,
   "id": "22d00e04",
   "metadata": {},
   "outputs": [],
   "source": [
    "# Невязка\n",
    "def residual(A, X, F):\n",
    "    return np.linalg.norm(np.dot(A,X) - F)"
   ]
  },
  {
   "cell_type": "code",
   "execution_count": 3,
   "id": "ee91ab24",
   "metadata": {},
   "outputs": [],
   "source": [
    "# Перестановка строк\n",
    "# params: mod = {'Gauss', 'Gauss_max'}\n",
    "\n",
    "def permutation(A, F, index, mod='Gauss'):\n",
    "    prev_index = index\n",
    "    \n",
    "    try:\n",
    "        if mod == 'Gauss':\n",
    "            while A[index, prev_index] == 0 and index + 1 != A.shape[0]:\n",
    "                index += 1\n",
    "        elif mod == 'Gauss_max':\n",
    "            index = np.nanargmax(np.where(A != 0, np.abs(A), np.NaN)[prev_index:, prev_index], axis=0) + prev_index\n",
    "            \n",
    "    except ValueError as error:\n",
    "        pass\n",
    "    \n",
    "    if A[index, prev_index] != 0:\n",
    "        A_i = np.array(A[index, :])\n",
    "        F_i = np.array(F[index, :])\n",
    "\n",
    "        A[index, :] = np.array(A[prev_index, :])\n",
    "        F[index, :] = np.array(F[prev_index, :])\n",
    "\n",
    "        A[prev_index, :] = A_i\n",
    "        F[prev_index, :] = F_i\n",
    "\n",
    "        return A, F, 1\n",
    "    \n",
    "    elif prev_index == 0:\n",
    "        raise ValueError('Система уравнений не имеет решения')\n",
    "    \n",
    "    return A, F, 0"
   ]
  },
  {
   "cell_type": "code",
   "execution_count": 4,
   "id": "7fe46711",
   "metadata": {},
   "outputs": [],
   "source": [
    "# Решение СЛАУ\n",
    "# params: mod = {'Gauss', 'Gauss_max'}\n",
    "\n",
    "def solve_SLE(A, F, mod='Gauss'):\n",
    "    n = A.shape[0]\n",
    "    A_copy = np.array(A)\n",
    "    F_copy = np.array(F)\n",
    "    \n",
    "    # Приведение к диагональному виду\n",
    "    for i in range(1, n):\n",
    "        for j in range(i, n):\n",
    "            A_copy, F_copy, flag = permutation(A_copy, F_copy, i - 1, mod)\n",
    "\n",
    "            if flag:\n",
    "                F_copy[j, 0] = F_copy[j, 0] - (A_copy[j, i - 1] / A_copy[i - 1, i - 1]) * F_copy[i - 1, 0]\n",
    "                A_copy[j, :] = A_copy[j, :] - (A_copy[j, i - 1] / A_copy[i - 1, i - 1]) * A_copy[i - 1, :]\n",
    "\n",
    "    #  Метод прогонки\n",
    "    X = np.zeros((n, 1))\n",
    "    X[n - 1, 0] = F_copy[n - 1, 0] / A_copy[n - 1, n - 1]   \n",
    "\n",
    "    for k in range(n - 2, -1, -1):\n",
    "        amount = 0\n",
    "        for j in range(k + 1, n):\n",
    "            amount += X[j, 0] * A_copy[k, j]\n",
    "\n",
    "        X[k, 0] = (F_copy[k, 0] - amount) / A_copy[k, k]\n",
    "\n",
    "    return X"
   ]
  },
  {
   "cell_type": "markdown",
   "id": "a781d892",
   "metadata": {},
   "source": [
    "## Исходные данные"
   ]
  },
  {
   "cell_type": "code",
   "execution_count": 5,
   "id": "0dee9a4b",
   "metadata": {},
   "outputs": [],
   "source": [
    "n = 100"
   ]
  },
  {
   "cell_type": "code",
   "execution_count": 6,
   "id": "a48599c2",
   "metadata": {},
   "outputs": [],
   "source": [
    "A = np.zeros((n, n))\n",
    "F = np.zeros(n).reshape((n, 1))"
   ]
  },
  {
   "cell_type": "code",
   "execution_count": 7,
   "id": "5d819e07",
   "metadata": {},
   "outputs": [],
   "source": [
    "for i in range(n):\n",
    "    A[i, :] = [random.random() * 10 for _ in range(n)]\n",
    "    F[i, 0] = random.random() * 10"
   ]
  },
  {
   "cell_type": "code",
   "execution_count": 8,
   "id": "6cfb9edd",
   "metadata": {},
   "outputs": [],
   "source": [
    "# print('A = ', A, end='\\n\\n')\n",
    "# print('F = ', F, end='\\n\\n')"
   ]
  },
  {
   "cell_type": "markdown",
   "id": "a01d1e54",
   "metadata": {},
   "source": [
    "## Метод Гаусса"
   ]
  },
  {
   "cell_type": "code",
   "execution_count": 9,
   "id": "2fbbf516",
   "metadata": {},
   "outputs": [],
   "source": [
    "try:\n",
    "    X = solve_SLE(A, F)\n",
    "except ValueError as value_error:\n",
    "    print(value_error)"
   ]
  },
  {
   "cell_type": "code",
   "execution_count": 10,
   "id": "08633556",
   "metadata": {},
   "outputs": [
    {
     "data": {
      "text/plain": [
       "6.097033769407087e-11"
      ]
     },
     "execution_count": 10,
     "metadata": {},
     "output_type": "execute_result"
    }
   ],
   "source": [
    "residual(A, X, F)"
   ]
  },
  {
   "cell_type": "markdown",
   "id": "933fb24b",
   "metadata": {},
   "source": [
    "## Метод Гаусса с выбором главного элемента"
   ]
  },
  {
   "cell_type": "code",
   "execution_count": 11,
   "id": "3a72b51a",
   "metadata": {},
   "outputs": [],
   "source": [
    "try:\n",
    "    X = solve_SLE(A, F, mod='Gauss_max')\n",
    "except ValueError as value_error:\n",
    "    print(value_error)"
   ]
  },
  {
   "cell_type": "code",
   "execution_count": 12,
   "id": "1d3ab22b",
   "metadata": {},
   "outputs": [
    {
     "data": {
      "text/plain": [
       "3.967927770835757e-13"
      ]
     },
     "execution_count": 12,
     "metadata": {},
     "output_type": "execute_result"
    }
   ],
   "source": [
    "residual(A, X, F)"
   ]
  },
  {
   "cell_type": "markdown",
   "id": "516196b5",
   "metadata": {},
   "source": [
    "### Невязка"
   ]
  },
  {
   "cell_type": "markdown",
   "id": "b9b95351",
   "metadata": {},
   "source": [
    "#### Зависимость от размерности системы"
   ]
  },
  {
   "cell_type": "code",
   "execution_count": 13,
   "id": "b4ca8a7b",
   "metadata": {},
   "outputs": [],
   "source": [
    "n_plot = []\n",
    "rdual1_plot = []\n",
    "rdual2_plot = []\n",
    "\n",
    "n = 2\n",
    "\n",
    "while n < 100:\n",
    "    n_plot.append(n)\n",
    "    \n",
    "    A = np.zeros((n, n))\n",
    "    F = np.zeros(n).reshape((n, 1))\n",
    "\n",
    "    for i in range(n):\n",
    "        A[i, :] = [random.random() * 10 for _ in range(n)]\n",
    "        F[i, 0] = random.random() * 10\n",
    "        \n",
    "    X1 = solve_SLE(A, F)\n",
    "    X2 = solve_SLE(A, F, mod='Gauss_max')\n",
    "    \n",
    "    rdual1_plot.append((residual(A, X1, F)))\n",
    "    rdual2_plot.append((residual(A, X2, F)))\n",
    "    n += 3"
   ]
  },
  {
   "cell_type": "code",
   "execution_count": 14,
   "id": "b649f62a",
   "metadata": {},
   "outputs": [
    {
     "data": {
      "text/plain": [
       "<matplotlib.legend.Legend at 0x239cb727dc0>"
      ]
     },
     "execution_count": 14,
     "metadata": {},
     "output_type": "execute_result"
    },
    {
     "data": {
      "image/png": "[encoded data removed]",
      "text/plain": [
       "<Figure size 720x432 with 1 Axes>"
      ]
     },
     "metadata": {
      "needs_background": "light"
     },
     "output_type": "display_data"
    }
   ],
   "source": [
    "plt.figure(figsize=(10, 6))\n",
    "plt.semilogy(n_plot, rdual1_plot, label='Gauss')\n",
    "plt.semilogy(n_plot, rdual2_plot, label='Gauss_max')\n",
    "plt.legend()"
   ]
  }
 ],
 "metadata": {
  "kernelspec": {
   "display_name": "Python 3",
   "language": "python",
   "name": "python3"
  },
  "language_info": {
   "codemirror_mode": {
    "name": "ipython",
    "version": 3
   },
   "file_extension": ".py",
   "mimetype": "text/x-python",
   "name": "python",
   "nbconvert_exporter": "python",
   "pygments_lexer": "ipython3",
   "version": "3.8.8"
  }
 },
 "nbformat": 4,
 "nbformat_minor": 5
}
