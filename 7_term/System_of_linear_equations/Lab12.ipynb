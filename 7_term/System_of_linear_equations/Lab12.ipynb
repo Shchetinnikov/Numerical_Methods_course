{
 "cells": [
  {
   "cell_type": "markdown",
   "id": "5beb91ae",
   "metadata": {},
   "source": [
    "# Решение СЛАУ методом Гаусса"
   ]
  },
  {
   "cell_type": "code",
   "execution_count": 1,
   "id": "a51bd7d6",
   "metadata": {},
   "outputs": [],
   "source": [
    "import random\n",
    "import numpy as np\n",
    "from matplotlib import pyplot as plt"
   ]
  },
  {
   "cell_type": "code",
   "execution_count": 2,
   "id": "22d00e04",
   "metadata": {},
   "outputs": [],
   "source": [
    "# Невязка\n",
    "def residual(A, X, F):\n",
    "    return np.linalg.norm(np.dot(A,X) - F)"
   ]
  },
  {
   "cell_type": "code",
   "execution_count": 3,
   "id": "ee91ab24",
   "metadata": {},
   "outputs": [],
   "source": [
    "# Перестановка строк\n",
    "# params: mod = {'Gauss', 'Gauss_max'}\n",
    "\n",
    "def permutation(A, F, index, mod='Gauss'):\n",
    "    prev_index = index\n",
    "    \n",
    "    try:\n",
    "        if mod == 'Gauss':\n",
    "            while A[index, prev_index] == 0 and index + 1 != A.shape[0]:\n",
    "                index += 1\n",
    "        elif mod == 'Gauss_max':\n",
    "            index = np.nanargmax(np.where(A != 0, A, np.NaN)[prev_index:, prev_index], axis=0) + prev_index\n",
    "            \n",
    "    except ValueError as error:\n",
    "        pass\n",
    "    \n",
    "    if A[index, prev_index] != 0:\n",
    "        A_i = np.array(A[index, :])\n",
    "        F_i = np.array(F[index, :])\n",
    "\n",
    "        A[index, :] = np.array(A[prev_index, :])\n",
    "        F[index, :] = np.array(F[prev_index, :])\n",
    "\n",
    "        A[prev_index, :] = A_i\n",
    "        F[prev_index, :] = F_i\n",
    "\n",
    "        return A, F, 1\n",
    "    \n",
    "    elif prev_index == 0:\n",
    "        raise ValueError('Система уравнений не имеет решения')\n",
    "    \n",
    "    return A, F, 0"
   ]
  },
  {
   "cell_type": "code",
   "execution_count": 4,
   "id": "7fe46711",
   "metadata": {},
   "outputs": [],
   "source": [
    "# Решение СЛАУ\n",
    "# params: mod = {'Gauss', 'Gauss_max'}\n",
    "\n",
    "def solve_SLE(A, F, mod='Gauss'):\n",
    "    n = A.shape[0]\n",
    "    A_copy = np.array(A)\n",
    "    F_copy = np.array(F)\n",
    "    \n",
    "    # Приведение к диагональному виду\n",
    "    for i in range(1, n):\n",
    "        for j in range(i, n):\n",
    "            A_copy, F_copy, flag = permutation(A_copy, F_copy, i - 1, mod)\n",
    "\n",
    "            if flag:\n",
    "                F_copy[j, 0] = F_copy[j, 0] - (A_copy[j, i - 1] / A_copy[i - 1, i - 1]) * F_copy[i - 1, 0]\n",
    "                A_copy[j, :] = A_copy[j, :] - (A_copy[j, i - 1] / A_copy[i - 1, i - 1]) * A_copy[i - 1, :]\n",
    "\n",
    "    #  Метод прогонки\n",
    "#     print(A_copy[n - 2 : n, :])\n",
    "#     print()\n",
    "    \n",
    "    X = np.zeros((n, 1))\n",
    "    X[n - 1, 0] = F_copy[n - 1, 0] / A_copy[n - 1, n - 1]   \n",
    "\n",
    "    for k in range(n - 2, -1, -1):\n",
    "        amount = 0\n",
    "        for j in range(k + 1, n):\n",
    "            amount += X[j, 0] * A_copy[k, j]\n",
    "\n",
    "        X[k, 0] = (F_copy[k, 0] - amount) / A_copy[k, k]\n",
    "\n",
    "    return X"
   ]
  },
  {
   "cell_type": "markdown",
   "id": "a781d892",
   "metadata": {},
   "source": [
    "## Исходные данные"
   ]
  },
  {
   "cell_type": "code",
   "execution_count": 5,
   "id": "0dee9a4b",
   "metadata": {},
   "outputs": [],
   "source": [
    "n = 100"
   ]
  },
  {
   "cell_type": "code",
   "execution_count": 6,
   "id": "a48599c2",
   "metadata": {},
   "outputs": [],
   "source": [
    "A = np.zeros((n, n))\n",
    "F = np.zeros(n).reshape((n, 1))"
   ]
  },
  {
   "cell_type": "code",
   "execution_count": 7,
   "id": "5d819e07",
   "metadata": {},
   "outputs": [],
   "source": [
    "for i in range(n):\n",
    "    A[i, :] = [random.random() * 10 for _ in range(n)]\n",
    "    F[i, 0] = random.random() * 10"
   ]
  },
  {
   "cell_type": "code",
   "execution_count": 8,
   "id": "6cfb9edd",
   "metadata": {},
   "outputs": [
    {
     "name": "stdout",
     "output_type": "stream",
     "text": [
      "A =  [[3.93664911 1.50775023 6.38650302 ... 3.86405192 9.05333253 4.60597097]\n",
      " [7.26946989 7.20071193 9.04539492 ... 3.16743705 0.35372931 2.41462786]\n",
      " [1.45621219 6.12445817 1.39080129 ... 0.39587519 4.07744813 4.10803566]\n",
      " ...\n",
      " [6.36086921 0.59840955 8.05385126 ... 7.24537128 0.42539699 6.67735445]\n",
      " [7.87483666 1.3387678  8.99201204 ... 8.24812396 1.07176292 8.33802647]\n",
      " [8.27243675 4.29086329 8.04154577 ... 8.82638879 7.87478683 8.97376172]]\n",
      "\n",
      "F =  [[8.97929966]\n",
      " [0.18668135]\n",
      " [6.08961802]\n",
      " [2.36459328]\n",
      " [2.75849367]\n",
      " [9.56071533]\n",
      " [4.04065256]\n",
      " [2.61286276]\n",
      " [3.34797027]\n",
      " [6.9847779 ]\n",
      " [6.36368966]\n",
      " [3.41176816]\n",
      " [9.72136547]\n",
      " [7.01805563]\n",
      " [7.86376618]\n",
      " [8.83547436]\n",
      " [5.74234242]\n",
      " [2.19341124]\n",
      " [6.17968177]\n",
      " [7.14603394]\n",
      " [2.44720212]\n",
      " [6.45803587]\n",
      " [8.17134346]\n",
      " [7.97304532]\n",
      " [1.26421207]\n",
      " [1.00170723]\n",
      " [2.92378287]\n",
      " [1.59094806]\n",
      " [4.21947764]\n",
      " [3.68043375]\n",
      " [3.74653576]\n",
      " [4.15281839]\n",
      " [9.22079745]\n",
      " [3.59429853]\n",
      " [1.32551266]\n",
      " [8.09680093]\n",
      " [8.00990987]\n",
      " [9.54655784]\n",
      " [4.91368439]\n",
      " [3.133751  ]\n",
      " [6.90892511]\n",
      " [7.98030079]\n",
      " [4.00172809]\n",
      " [4.95868918]\n",
      " [2.08573404]\n",
      " [3.86043646]\n",
      " [1.87919278]\n",
      " [6.3318452 ]\n",
      " [0.40228358]\n",
      " [6.58914819]\n",
      " [2.29459004]\n",
      " [2.68923074]\n",
      " [7.32306247]\n",
      " [1.45839388]\n",
      " [7.08357995]\n",
      " [2.94875544]\n",
      " [6.17844821]\n",
      " [4.98561349]\n",
      " [7.49233725]\n",
      " [1.93296947]\n",
      " [4.46592797]\n",
      " [5.43886767]\n",
      " [9.02408389]\n",
      " [8.11739319]\n",
      " [9.60375233]\n",
      " [6.56497361]\n",
      " [8.38735226]\n",
      " [1.02825774]\n",
      " [8.83703166]\n",
      " [0.44728768]\n",
      " [5.22918992]\n",
      " [7.16284685]\n",
      " [0.62155467]\n",
      " [3.71049616]\n",
      " [2.00915797]\n",
      " [3.55073849]\n",
      " [7.16336049]\n",
      " [4.86090267]\n",
      " [8.80876757]\n",
      " [6.23870585]\n",
      " [5.23098346]\n",
      " [7.52686697]\n",
      " [9.70975528]\n",
      " [4.15464631]\n",
      " [8.06167039]\n",
      " [8.06617692]\n",
      " [7.12192285]\n",
      " [8.99292306]\n",
      " [5.80194494]\n",
      " [7.82126665]\n",
      " [1.15330954]\n",
      " [9.67071071]\n",
      " [5.71844883]\n",
      " [0.87061116]\n",
      " [4.12910725]\n",
      " [7.05087615]\n",
      " [4.33485285]\n",
      " [2.17590799]\n",
      " [8.74593085]\n",
      " [7.27929842]]\n",
      "\n"
     ]
    }
   ],
   "source": [
    "print('A = ', A, end='\\n\\n')\n",
    "print('F = ', F, end='\\n\\n')"
   ]
  },
  {
   "cell_type": "markdown",
   "id": "a01d1e54",
   "metadata": {},
   "source": [
    "## Метод Гаусса"
   ]
  },
  {
   "cell_type": "code",
   "execution_count": 9,
   "id": "2fbbf516",
   "metadata": {},
   "outputs": [],
   "source": [
    "try:\n",
    "    X = solve_SLE(A, F)\n",
    "except ValueError as value_error:\n",
    "    print(value_error)"
   ]
  },
  {
   "cell_type": "code",
   "execution_count": 10,
   "id": "08633556",
   "metadata": {},
   "outputs": [
    {
     "data": {
      "text/plain": [
       "2.8801318086860344e-11"
      ]
     },
     "execution_count": 10,
     "metadata": {},
     "output_type": "execute_result"
    }
   ],
   "source": [
    "residual(A, X, F)"
   ]
  },
  {
   "cell_type": "markdown",
   "id": "933fb24b",
   "metadata": {},
   "source": [
    "## Метод Гаусса с выбором главного элемента"
   ]
  },
  {
   "cell_type": "code",
   "execution_count": 11,
   "id": "3a72b51a",
   "metadata": {},
   "outputs": [],
   "source": [
    "try:\n",
    "    X = solve_SLE(A, F, mod='Gauss_max')\n",
    "except ValueError as value_error:\n",
    "    print(value_error)"
   ]
  },
  {
   "cell_type": "code",
   "execution_count": 12,
   "id": "1d3ab22b",
   "metadata": {},
   "outputs": [
    {
     "data": {
      "text/plain": [
       "8.062519408401377e-13"
      ]
     },
     "execution_count": 12,
     "metadata": {},
     "output_type": "execute_result"
    }
   ],
   "source": [
    "residual(A, X, F)"
   ]
  },
  {
   "cell_type": "markdown",
   "id": "516196b5",
   "metadata": {},
   "source": [
    "### Невязка"
   ]
  },
  {
   "cell_type": "markdown",
   "id": "b9b95351",
   "metadata": {},
   "source": [
    "#### Зависимость от размерности системы"
   ]
  },
  {
   "cell_type": "code",
   "execution_count": 13,
   "id": "b4ca8a7b",
   "metadata": {},
   "outputs": [
    {
     "name": "stderr",
     "output_type": "stream",
     "text": [
      "<ipython-input-4-4a3d1edc7d9d>:23: RuntimeWarning: divide by zero encountered in double_scalars\n",
      "  X[n - 1, 0] = F_copy[n - 1, 0] / A_copy[n - 1, n - 1]\n",
      "<ipython-input-4-4a3d1edc7d9d>:28: RuntimeWarning: invalid value encountered in double_scalars\n",
      "  amount += X[j, 0] * A_copy[k, j]\n"
     ]
    }
   ],
   "source": [
    "n_plot = []\n",
    "rdual1_plot = []\n",
    "rdual2_plot = []\n",
    "\n",
    "n = 2\n",
    "\n",
    "while n < 100:\n",
    "    n_plot.append(n)\n",
    "    \n",
    "    A = np.zeros((n, n))\n",
    "    F = np.zeros(n).reshape((n, 1))\n",
    "\n",
    "    for i in range(n):\n",
    "        A[i, :] = [random.random() * 10 for _ in range(n)]\n",
    "        F[i, 0] = random.random() * 10\n",
    "        \n",
    "    X1 = solve_SLE(A, F)\n",
    "    X2 = solve_SLE(A, F, mod='Gauss_max')\n",
    "    \n",
    "    rdual1_plot.append(np.log(residual(A, X1, F)))\n",
    "    rdual2_plot.append(np.log(residual(A, X2, F)))\n",
    "    n += 3"
   ]
  },
  {
   "cell_type": "code",
   "execution_count": 14,
   "id": "b649f62a",
   "metadata": {},
   "outputs": [
    {
     "data": {
      "text/plain": [
       "<matplotlib.legend.Legend at 0x2017eefe310>"
      ]
     },
     "execution_count": 14,
     "metadata": {},
     "output_type": "execute_result"
    },
    {
     "data": {
      "image/png": "[encoded data removed]",
      "text/plain": [
       "<Figure size 720x432 with 1 Axes>"
      ]
     },
     "metadata": {
      "needs_background": "light"
     },
     "output_type": "display_data"
    }
   ],
   "source": [
    "plt.figure(figsize=(10, 6))\n",
    "plt.plot(n_plot, rdual1_plot, label='Gauss')\n",
    "plt.plot(n_plot, rdual2_plot, label='Gauss_max')\n",
    "plt.legend()"
   ]
  },
  {
   "cell_type": "markdown",
   "id": "872dbbe3",
   "metadata": {},
   "source": [
    "#### Зависимость от генерируемых значений"
   ]
  },
  {
   "cell_type": "code",
   "execution_count": 17,
   "id": "aad8e98e",
   "metadata": {},
   "outputs": [
    {
     "name": "stderr",
     "output_type": "stream",
     "text": [
      "<ipython-input-4-4a3d1edc7d9d>:23: RuntimeWarning: invalid value encountered in double_scalars\n",
      "  X[n - 1, 0] = F_copy[n - 1, 0] / A_copy[n - 1, n - 1]\n"
     ]
    }
   ],
   "source": [
    "iter_plot = []\n",
    "iterations = 2\n",
    "\n",
    "rdual1_plot = []\n",
    "rdual2_plot = []\n",
    "\n",
    "n = 100\n",
    "\n",
    "while iterations < 50:\n",
    "    iter_plot.append(iterations)\n",
    "    \n",
    "    A = np.zeros((n, n))\n",
    "    F = np.zeros(n).reshape((n, 1))\n",
    "\n",
    "    for i in range(n):\n",
    "        A[i, :] = [random.random() * 10 for _ in range(n)]\n",
    "        F[i, 0] = random.random() * 10\n",
    "        \n",
    "    X1 = solve_SLE(A, F)\n",
    "    X2 = solve_SLE(A, F, mod='Gauss_max')\n",
    "    \n",
    "    rdual1_plot.append(np.log(residual(A, X1, F)))\n",
    "    rdual2_plot.append(np.log(residual(A, X2, F)))\n",
    "    iterations += 1"
   ]
  },
  {
   "cell_type": "code",
   "execution_count": 18,
   "id": "393223f6",
   "metadata": {},
   "outputs": [
    {
     "data": {
      "text/plain": [
       "<matplotlib.legend.Legend at 0x2017efd5e20>"
      ]
     },
     "execution_count": 18,
     "metadata": {},
     "output_type": "execute_result"
    },
    {
     "data": {
      "image/png": "[encoded data removed]",
      "text/plain": [
       "<Figure size 720x432 with 1 Axes>"
      ]
     },
     "metadata": {
      "needs_background": "light"
     },
     "output_type": "display_data"
    }
   ],
   "source": [
    "plt.figure(figsize=(10, 6))\n",
    "plt.plot(iter_plot, rdual1_plot, label='Gauss')\n",
    "plt.plot(iter_plot, rdual2_plot, label='Gauss_max')\n",
    "plt.legend()"
   ]
  },
  {
   "cell_type": "code",
   "execution_count": null,
   "id": "6e1e9dfb",
   "metadata": {},
   "outputs": [],
   "source": []
  }
 ],
 "metadata": {
  "kernelspec": {
   "display_name": "Python 3",
   "language": "python",
   "name": "python3"
  },
  "language_info": {
   "codemirror_mode": {
    "name": "ipython",
    "version": 3
   },
   "file_extension": ".py",
   "mimetype": "text/x-python",
   "name": "python",
   "nbconvert_exporter": "python",
   "pygments_lexer": "ipython3",
   "version": "3.8.8"
  }
 },
 "nbformat": 4,
 "nbformat_minor": 5
}
